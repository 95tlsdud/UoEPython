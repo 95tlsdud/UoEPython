{
 "cells": [
  {
   "cell_type": "markdown",
   "metadata": {},
   "source": [
    "quiz 1\n",
    "\n",
    "Write a function common(x,y) that takes two lists and returns True if they have any elements in common, and False if they do not."
   ]
  },
  {
   "cell_type": "markdown",
   "metadata": {},
   "source": [
    "What I did"
   ]
  },
  {
   "cell_type": "code",
   "execution_count": null,
   "metadata": {},
   "outputs": [],
   "source": [
    "def common_mine(x,y):\n",
    "    for i in range(0,len(x)):\n",
    "        if x[i] == y[i]:\n",
    "            return True\n",
    "        elif x[i] in y:\n",
    "            return True\n",
    "        else:\n",
    "            return False"
   ]
  },
  {
   "cell_type": "code",
   "execution_count": null,
   "metadata": {},
   "outputs": [],
   "source": [
    "def common(x,y):\n",
    "    '''\n",
    "    Takes two lists and returns a boolean as to \n",
    "    whether they have elements in common.\n",
    "    '''\n",
    "    a = set(x).intersection(set(y))\n",
    "    if len(a) > 0:\n",
    "        return True\n",
    "    else:\n",
    "        return False"
   ]
  },
  {
   "cell_type": "markdown",
   "metadata": {},
   "source": [
    "set(x).intersection(set(y)) : x 와 y의 공통점을 찾아서 묶어준다.\n",
    "만약 길이가 0보다 크면 즉, a안에 하나라도 존재하면 true 그게 아니면 false"
   ]
  },
  {
   "cell_type": "markdown",
   "metadata": {},
   "source": [
    "quiz 2\n",
    "Write a function diffs(x,y) that takes two lists as arguments and finds the differences between them, it should return a single sorted list with all the elements that are in x or y, but not in both."
   ]
  },
  {
   "cell_type": "code",
   "execution_count": 1,
   "metadata": {},
   "outputs": [],
   "source": [
    "def diffs(x,y):\n",
    "    '''\n",
    "    Find elements in lists x or y, but not in both.\n",
    "    '''\n",
    "    sx = set(x)\n",
    "    sy = set(y)\n",
    "    ss = list(sx.union(sy)-sx.intersection(sy))\n",
    "    ss.sort()\n",
    "    return ss"
   ]
  },
  {
   "cell_type": "code",
   "execution_count": 2,
   "metadata": {},
   "outputs": [
    {
     "name": "stdout",
     "output_type": "stream",
     "text": [
      "[0, 1, 3, 4]\n"
     ]
    }
   ],
   "source": [
    "print(diffs([2,0,1,2],[2,3,4]))"
   ]
  },
  {
   "cell_type": "code",
   "execution_count": 3,
   "metadata": {},
   "outputs": [
    {
     "name": "stdout",
     "output_type": "stream",
     "text": [
      "['b', 'c', 'd', 'lll']\n"
     ]
    }
   ],
   "source": [
    "print(diffs(['a','c','d'],['a','b','lll']))"
   ]
  },
  {
   "cell_type": "markdown",
   "metadata": {},
   "source": [
    "quiz 4\n",
    "\n",
    "Make a function threed_angle(a,b) which takes as arguments two vectors given in length 3 Numpy arrays. You should return the angle between them measured in degrees (in a range 0-180). "
   ]
  },
  {
   "cell_type": "code",
   "execution_count": null,
   "metadata": {},
   "outputs": [],
   "source": [
    "import numpy\n",
    "def threed_angle(a,b):\n",
    "    '''\n",
    "    Return the angle between two 3d vectors\n",
    "    given in Numpy arrays. Angle in degrees.\n",
    "    '''\n",
    "    theta = numpy.arccos(numpy.dot(a,b)/(numpy.linalg.norm(a)*numpy.linalg.norm(b)))\n",
    "    theta = theta*180/numpy.pi\n",
    "    return theta"
   ]
  },
  {
   "cell_type": "markdown",
   "metadata": {},
   "source": [
    "quiz 5\n",
    "\n",
    "Write a function med_hw(x) which receives a list of tuples in the following format:\n",
    "\n",
    "       [(h1,w1), (h2,w2),...(hn,wn)]\n",
    "\n",
    "Containing height and weight pairs for a class of students.\n",
    "\n",
    "Your function should return a tuple containing the median height and median weight.\n",
    "\n"
   ]
  },
  {
   "cell_type": "markdown",
   "metadata": {},
   "source": [
    "what I did"
   ]
  },
  {
   "cell_type": "code",
   "execution_count": null,
   "metadata": {},
   "outputs": [],
   "source": [
    "import numpy\n",
    "def med_hw_mine(x):\n",
    "    h_list = []\n",
    "    w_list = []\n",
    "    for i in range(0,len(x)):\n",
    "        h = x[i][0]\n",
    "        h_list.append(h)\n",
    "        w = x[i][1]\n",
    "        w_list.append(w)\n",
    "    height = numpy.median(h_list)\n",
    "    weight = numpy.median(w_list)\n",
    "    return (height,weight)"
   ]
  },
  {
   "cell_type": "code",
   "execution_count": null,
   "metadata": {},
   "outputs": [],
   "source": [
    "import numpy\n",
    "def med_hw(x):\n",
    "    '''\n",
    "    Find the median height and weight from \n",
    "    tuples of height/weight given in a list.\n",
    "    '''\n",
    "    heights = numpy.array([a[0] for a in x])\n",
    "    weights = numpy.array([a[1] for a in x])\n",
    "    return (numpy.median(heights),numpy.median(weights))"
   ]
  },
  {
   "cell_type": "markdown",
   "metadata": {},
   "source": [
    "quiz 7\n",
    "\n",
    "Write a function cof_tea(x) taking argument consisting of a dictionary giving Name:'coffee' or Name:'tea' depending on that person's preference of tea or coffee. Your function should return two lists, first the coffee drinkers in alphabetical order in one list, then the tea drinkers in alphabetical order in the second list."
   ]
  },
  {
   "cell_type": "code",
   "execution_count": null,
   "metadata": {},
   "outputs": [],
   "source": [
    "def cof_tea_mine(x):\n",
    "    p = list(x.keys())\n",
    "    o = list(x.values())\n",
    "    coffee = []\n",
    "    tea = []\n",
    "    for i in range(0,len(o)):\n",
    "        if o[i] == 'coffee':\n",
    "            coffee.append(p[i])\n",
    "        else:\n",
    "            tea.append(p[i])\n",
    "    r_c = sorted(coffee)\n",
    "    r_t = sorted(tea)\n",
    "    return r_c, r_t"
   ]
  },
  {
   "cell_type": "code",
   "execution_count": null,
   "metadata": {},
   "outputs": [],
   "source": [
    "def cof_tea(x):\n",
    "    '''\n",
    "    For a dictionary with tea/coffee preferences return names\n",
    "    in two lists sorted alphabetically according to \n",
    "    preference.\n",
    "    '''\n",
    "    coffee = [name for name,pref in x.items() if pref == 'coffee']\n",
    "    tea = [name for name,pref in x.items() if pref == 'tea']\n",
    "    coffee.sort()\n",
    "    tea.sort()\n",
    "    return coffee,tea"
   ]
  },
  {
   "cell_type": "markdown",
   "metadata": {},
   "source": [
    "quiz 8\n",
    "\n",
    "Create a function called string_reader( ) that accepts the input of a string, and returns a dictionary with each letter in the string as a key, and the number of times that that letter appears as the value."
   ]
  },
  {
   "cell_type": "code",
   "execution_count": null,
   "metadata": {},
   "outputs": [],
   "source": [
    "def string_reader(a):\n",
    "    '''\n",
    "    Read a string and make a dictionary with the \n",
    "    letters and the number of times they are used.\n",
    "    '''\n",
    "    letters = dict()\n",
    "    for letter in a:\n",
    "        if letter not in letters:\n",
    "            letters[letter] = 1\n",
    "        else:\n",
    "            letters[letter] += 1\n",
    "    return(letters)"
   ]
  },
  {
   "cell_type": "markdown",
   "metadata": {},
   "source": [
    "quiz 7"
   ]
  },
  {
   "cell_type": "code",
   "execution_count": null,
   "metadata": {},
   "outputs": [],
   "source": [
    "quiz 8"
   ]
  },
  {
   "cell_type": "code",
   "execution_count": null,
   "metadata": {},
   "outputs": [],
   "source": [
    "quiz 9"
   ]
  },
  {
   "cell_type": "code",
   "execution_count": null,
   "metadata": {},
   "outputs": [],
   "source": [
    "quiz 10"
   ]
  }
 ],
 "metadata": {
  "kernelspec": {
   "display_name": "Python 3",
   "language": "python",
   "name": "python3"
  },
  "language_info": {
   "codemirror_mode": {
    "name": "ipython",
    "version": 3
   },
   "file_extension": ".py",
   "mimetype": "text/x-python",
   "name": "python",
   "nbconvert_exporter": "python",
   "pygments_lexer": "ipython3",
   "version": "3.7.1"
  }
 },
 "nbformat": 4,
 "nbformat_minor": 2
}
