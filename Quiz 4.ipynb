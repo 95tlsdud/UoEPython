{
 "cells": [
  {
   "cell_type": "code",
   "execution_count": 7,
   "metadata": {},
   "outputs": [],
   "source": [
    "def common(x,y):\n",
    "    for i in range(0,len(x)):\n",
    "        if x[i] == y[i]:\n",
    "            return True\n",
    "        elif x[i] in y:\n",
    "            return True\n",
    "        else:\n",
    "            return False"
   ]
  },
  {
   "cell_type": "code",
   "execution_count": 8,
   "metadata": {},
   "outputs": [
    {
     "name": "stdout",
     "output_type": "stream",
     "text": [
      "False\n"
     ]
    }
   ],
   "source": [
    "print(common(['hi','yes','this'],['h','I','aaa']))"
   ]
  },
  {
   "cell_type": "code",
   "execution_count": 9,
   "metadata": {},
   "outputs": [
    {
     "name": "stdout",
     "output_type": "stream",
     "text": [
      "False\n"
     ]
    }
   ],
   "source": [
    "print(common([4,5,6,7],[1,2,3]))"
   ]
  },
  {
   "cell_type": "code",
   "execution_count": 10,
   "metadata": {},
   "outputs": [
    {
     "name": "stdout",
     "output_type": "stream",
     "text": [
      "True\n"
     ]
    }
   ],
   "source": [
    "print(common([1,2,3,4,5],list(range(2))))"
   ]
  },
  {
   "cell_type": "code",
   "execution_count": 11,
   "metadata": {},
   "outputs": [
    {
     "name": "stdout",
     "output_type": "stream",
     "text": [
      "[0, 1]\n"
     ]
    }
   ],
   "source": [
    "print(list(range(2)))"
   ]
  },
  {
   "cell_type": "code",
   "execution_count": null,
   "metadata": {},
   "outputs": [],
   "source": [
    "def diffs(x,y):\n",
    "    import math\n",
    "    x_sort = sorted(x)\n",
    "    y_sort = sorted(y)\n",
    "    result = []\n",
    "    for i in range(0,len(x)):\n",
    "        a = abs()\n",
    "    "
   ]
  },
  {
   "cell_type": "code",
   "execution_count": null,
   "metadata": {},
   "outputs": [],
   "source": []
  },
  {
   "cell_type": "code",
   "execution_count": 12,
   "metadata": {},
   "outputs": [
    {
     "data": {
      "text/plain": [
       "[0, 1, 2, 2]"
      ]
     },
     "execution_count": 12,
     "metadata": {},
     "output_type": "execute_result"
    }
   ],
   "source": [
    "sorted([2,0,1,2])"
   ]
  },
  {
   "cell_type": "code",
   "execution_count": 13,
   "metadata": {},
   "outputs": [
    {
     "data": {
      "text/plain": [
       "[2, 3, 4]"
      ]
     },
     "execution_count": 13,
     "metadata": {},
     "output_type": "execute_result"
    }
   ],
   "source": [
    "sorted([2,3,4])"
   ]
  },
  {
   "cell_type": "code",
   "execution_count": 14,
   "metadata": {},
   "outputs": [
    {
     "ename": "TypeError",
     "evalue": "unsupported operand type(s) for -: 'list' and 'list'",
     "output_type": "error",
     "traceback": [
      "\u001b[1;31m---------------------------------------------------------------------------\u001b[0m",
      "\u001b[1;31mTypeError\u001b[0m                                 Traceback (most recent call last)",
      "\u001b[1;32m<ipython-input-14-87326de17124>\u001b[0m in \u001b[0;36m<module>\u001b[1;34m\u001b[0m\n\u001b[1;32m----> 1\u001b[1;33m \u001b[0msorted\u001b[0m\u001b[1;33m(\u001b[0m\u001b[1;33m[\u001b[0m\u001b[1;36m2\u001b[0m\u001b[1;33m,\u001b[0m\u001b[1;36m0\u001b[0m\u001b[1;33m,\u001b[0m\u001b[1;36m1\u001b[0m\u001b[1;33m,\u001b[0m\u001b[1;36m2\u001b[0m\u001b[1;33m]\u001b[0m\u001b[1;33m)\u001b[0m\u001b[1;33m-\u001b[0m\u001b[0msorted\u001b[0m\u001b[1;33m(\u001b[0m\u001b[1;33m[\u001b[0m\u001b[1;36m2\u001b[0m\u001b[1;33m,\u001b[0m\u001b[1;36m3\u001b[0m\u001b[1;33m,\u001b[0m\u001b[1;36m4\u001b[0m\u001b[1;33m]\u001b[0m\u001b[1;33m)\u001b[0m\u001b[1;33m\u001b[0m\u001b[1;33m\u001b[0m\u001b[0m\n\u001b[0m",
      "\u001b[1;31mTypeError\u001b[0m: unsupported operand type(s) for -: 'list' and 'list'"
     ]
    }
   ],
   "source": [
    "sorted([2,0,1,2])-sorted([2,3,4])"
   ]
  },
  {
   "cell_type": "code",
   "execution_count": 6,
   "metadata": {},
   "outputs": [
    {
     "name": "stdout",
     "output_type": "stream",
     "text": [
      "[2, 34, 56, 7]\n"
     ]
    },
    {
     "data": {
      "text/plain": [
       "34"
      ]
     },
     "execution_count": 6,
     "metadata": {},
     "output_type": "execute_result"
    }
   ],
   "source": [
    "x = (2,34,56,7)\n",
    "l = [int(x) for x in x]\n",
    "print(l)"
   ]
  },
  {
   "cell_type": "code",
   "execution_count": 11,
   "metadata": {},
   "outputs": [],
   "source": [
    "def joini(x):\n",
    "    l = [int(x) for x in x]\n",
    "    result = ''\n",
    "    for i in range(0,len(l)):\n",
    "        a = l[i]\n",
    "        result += str(a)\n",
    "    return result"
   ]
  },
  {
   "cell_type": "code",
   "execution_count": 12,
   "metadata": {},
   "outputs": [
    {
     "name": "stdout",
     "output_type": "stream",
     "text": [
      "234567\n"
     ]
    }
   ],
   "source": [
    "print(joini((2,34,56,7)))"
   ]
  },
  {
   "cell_type": "code",
   "execution_count": null,
   "metadata": {},
   "outputs": [],
   "source": [
    "import numpy\n",
    "def threed_angle(a,b):\n",
    "    a_l = list(a)\n",
    "    b_l = list(b)\n",
    "    result = []\n",
    "    for i in range(0,len(a)):\n",
    "        r = a_l[i] * b_l[i]\n",
    "        result.append(r)\n",
    "    "
   ]
  },
  {
   "cell_type": "code",
   "execution_count": 19,
   "metadata": {},
   "outputs": [
    {
     "name": "stdout",
     "output_type": "stream",
     "text": [
      "0\n",
      "1.5707963267948966\n"
     ]
    }
   ],
   "source": [
    "import numpy\n",
    "a = numpy.array([0,0,1])\n",
    "b = numpy.array([1,0,0])\n",
    "a_l = list(a)\n",
    "b_l = list(b)\n",
    "cosang = numpy.dot(a,b)\n",
    "print(cosang)\n",
    "print(numpy.arccos(cosang))"
   ]
  },
  {
   "cell_type": "code",
   "execution_count": 42,
   "metadata": {},
   "outputs": [
    {
     "name": "stdout",
     "output_type": "stream",
     "text": [
      "[{'Stuart': 'tea', 'George': 'coffee', 'Zoe': 'tea', 'Alfie': 'tea', 'Li': 'coffee'}]\n"
     ]
    },
    {
     "ename": "IndexError",
     "evalue": "list index out of range",
     "output_type": "error",
     "traceback": [
      "\u001b[1;31m---------------------------------------------------------------------------\u001b[0m",
      "\u001b[1;31mIndexError\u001b[0m                                Traceback (most recent call last)",
      "\u001b[1;32m<ipython-input-42-3b1c81d3fba8>\u001b[0m in \u001b[0;36m<module>\u001b[1;34m\u001b[0m\n\u001b[0;32m      1\u001b[0m \u001b[0ma_list\u001b[0m \u001b[1;33m=\u001b[0m \u001b[1;33m[\u001b[0m\u001b[0ma\u001b[0m\u001b[1;33m]\u001b[0m\u001b[1;33m\u001b[0m\u001b[1;33m\u001b[0m\u001b[0m\n\u001b[0;32m      2\u001b[0m \u001b[0mprint\u001b[0m\u001b[1;33m(\u001b[0m\u001b[0ma_list\u001b[0m\u001b[1;33m)\u001b[0m\u001b[1;33m\u001b[0m\u001b[1;33m\u001b[0m\u001b[0m\n\u001b[1;32m----> 3\u001b[1;33m \u001b[0mprint\u001b[0m\u001b[1;33m(\u001b[0m\u001b[0ma_list\u001b[0m\u001b[1;33m[\u001b[0m\u001b[1;36m1\u001b[0m\u001b[1;33m]\u001b[0m\u001b[1;33m)\u001b[0m\u001b[1;33m\u001b[0m\u001b[1;33m\u001b[0m\u001b[0m\n\u001b[0m",
      "\u001b[1;31mIndexError\u001b[0m: list index out of range"
     ]
    }
   ],
   "source": [
    "a_list = [a]\n",
    "print(a_list)"
   ]
  },
  {
   "cell_type": "code",
   "execution_count": 28,
   "metadata": {},
   "outputs": [
    {
     "data": {
      "text/plain": [
       "5"
      ]
     },
     "execution_count": 28,
     "metadata": {},
     "output_type": "execute_result"
    }
   ],
   "source": [
    "len(a)"
   ]
  },
  {
   "cell_type": "code",
   "execution_count": 34,
   "metadata": {},
   "outputs": [
    {
     "ename": "TypeError",
     "evalue": "'builtin_function_or_method' object is not subscriptable",
     "output_type": "error",
     "traceback": [
      "\u001b[1;31m---------------------------------------------------------------------------\u001b[0m",
      "\u001b[1;31mTypeError\u001b[0m                                 Traceback (most recent call last)",
      "\u001b[1;32m<ipython-input-34-7bba4468f446>\u001b[0m in \u001b[0;36m<module>\u001b[1;34m\u001b[0m\n\u001b[1;32m----> 1\u001b[1;33m \u001b[0mprint\u001b[0m\u001b[1;33m(\u001b[0m\u001b[0ma\u001b[0m\u001b[1;33m.\u001b[0m\u001b[0mkeys\u001b[0m\u001b[1;33m[\u001b[0m\u001b[1;34m'tea'\u001b[0m\u001b[1;33m]\u001b[0m\u001b[1;33m)\u001b[0m\u001b[1;33m\u001b[0m\u001b[1;33m\u001b[0m\u001b[0m\n\u001b[0m",
      "\u001b[1;31mTypeError\u001b[0m: 'builtin_function_or_method' object is not subscriptable"
     ]
    }
   ],
   "source": [
    "print(a.keys['tea'])"
   ]
  },
  {
   "cell_type": "code",
   "execution_count": 33,
   "metadata": {},
   "outputs": [
    {
     "ename": "NameError",
     "evalue": "name 'tea' is not defined",
     "output_type": "error",
     "traceback": [
      "\u001b[1;31m---------------------------------------------------------------------------\u001b[0m",
      "\u001b[1;31mNameError\u001b[0m                                 Traceback (most recent call last)",
      "\u001b[1;32m<ipython-input-33-0587924ed2d0>\u001b[0m in \u001b[0;36m<module>\u001b[1;34m\u001b[0m\n\u001b[1;32m----> 1\u001b[1;33m \u001b[0mprint\u001b[0m\u001b[1;33m(\u001b[0m\u001b[0ma\u001b[0m\u001b[1;33m[\u001b[0m\u001b[0mtea\u001b[0m\u001b[1;33m]\u001b[0m\u001b[1;33m)\u001b[0m\u001b[1;33m\u001b[0m\u001b[1;33m\u001b[0m\u001b[0m\n\u001b[0m",
      "\u001b[1;31mNameError\u001b[0m: name 'tea' is not defined"
     ]
    }
   ],
   "source": [
    "print(a[tea])"
   ]
  },
  {
   "cell_type": "code",
   "execution_count": 45,
   "metadata": {},
   "outputs": [
    {
     "name": "stdout",
     "output_type": "stream",
     "text": [
      "Stuart\n",
      "George\n",
      "Zoe\n",
      "Alfie\n",
      "Li\n",
      "tea\n",
      "coffee\n",
      "tea\n",
      "tea\n",
      "coffee\n",
      "{'tea': 'Alfie', 'coffee': 'Li'}\n"
     ]
    }
   ],
   "source": [
    "a = {'Stuart':'tea','George':'coffee','Zoe':'tea','Alfie':'tea','Li':'coffee'}\n",
    "\n",
    "for keys in a:\n",
    "    print(keys)\n",
    "\n",
    "for values in a.values():\n",
    "    print(values)\n",
    "\n",
    "new_dict = dict([(values, keys) for keys, values in a.items()])\n",
    "print(new_dict)"
   ]
  },
  {
   "cell_type": "code",
   "execution_count": null,
   "metadata": {},
   "outputs": [],
   "source": [
    "def cof_tea(x):\n",
    "    coffee = []\n",
    "    tea = []\n",
    "    for values in x.values():\n",
    "        if values == 'coffee':\n",
    "            coffee.append()"
   ]
  },
  {
   "cell_type": "code",
   "execution_count": 48,
   "metadata": {},
   "outputs": [],
   "source": [
    "def cof_tea(x):\n",
    "    coffee = []\n",
    "    tea = []\n",
    "    new_dict = dict((values, keys) for keys, values in x.items())\n",
    "    for values in new_dict.values():\n",
    "        if values == 'coffee':\n",
    "            coffee.append(new_dict['coffee'])\n",
    "        else:\n",
    "            tea.append(new_dict['tea'])\n",
    "        return coffee, tea"
   ]
  },
  {
   "cell_type": "code",
   "execution_count": 49,
   "metadata": {},
   "outputs": [
    {
     "name": "stdout",
     "output_type": "stream",
     "text": [
      "[]\n",
      "['Alfie']\n"
     ]
    }
   ],
   "source": [
    "a,b = cof_tea({'Stuart':'tea','George':'coffee','Zoe':'tea','Alfie':'tea','Li':'coffee'})\n",
    "print(a)\n",
    "print(b)"
   ]
  },
  {
   "cell_type": "code",
   "execution_count": 50,
   "metadata": {},
   "outputs": [
    {
     "name": "stdout",
     "output_type": "stream",
     "text": [
      "{'Stuart': 'tea', 'George': 'coffee', 'Zoe': 'tea', 'Alfie': 'tea', 'Li': 'coffee'}\n",
      "{'tea': 'Alfie', 'coffee': 'Li'}\n"
     ]
    }
   ],
   "source": [
    "a = {'Stuart':'tea','George':'coffee','Zoe':'tea','Alfie':'tea','Li':'coffee'}\n",
    "print(a)\n",
    "ndict = {value:key for key, value in a.items()}\n",
    "print(ndict)"
   ]
  },
  {
   "cell_type": "code",
   "execution_count": 56,
   "metadata": {},
   "outputs": [
    {
     "name": "stdout",
     "output_type": "stream",
     "text": [
      "Stuart\n",
      "George\n",
      "Zoe\n",
      "Alfie\n",
      "Li\n",
      "['Stuart', 'George', 'Zoe', 'Alfie', 'Li']\n",
      "tea\n",
      "coffee\n",
      "tea\n",
      "tea\n",
      "coffee\n",
      "{'tea': 'Alfie', 'coffee': 'Li'}\n"
     ]
    }
   ],
   "source": [
    "a = {'Stuart':'tea','George':'coffee','Zoe':'tea','Alfie':'tea','Li':'coffee'}\n",
    "\n",
    "key = []\n",
    "for keys in a:\n",
    "    print(keys)\n",
    "    key.append(keys)\n",
    "print(key)\n",
    "\n",
    "for values in a.values():\n",
    "    print(values)\n",
    "\n",
    "new_dict = dict([(values, keys) for keys, values in a.items()])\n",
    "print(new_dict)"
   ]
  },
  {
   "cell_type": "code",
   "execution_count": 57,
   "metadata": {},
   "outputs": [],
   "source": [
    "def cof_tea(x):\n",
    "    key = []\n",
    "    value = []\n",
    "    for keys in x:\n",
    "        key.append(keys)\n",
    "    for values in x:\n",
    "        value.append(values)\n",
    "    coffee = []\n",
    "    tea = []\n",
    "    for i in range(len(value)):\n",
    "        if value[i] == 'coffee':\n",
    "            return coffee.append(key[i])\n",
    "        else:\n",
    "            return tea.append(key[i])"
   ]
  },
  {
   "cell_type": "code",
   "execution_count": 77,
   "metadata": {},
   "outputs": [],
   "source": [
    "def cof_tea(x):\n",
    "    p = list(x.keys())\n",
    "    o = list(x.values())\n",
    "    coffee = []\n",
    "    tea = []\n",
    "    for i in range(0,len(o)):\n",
    "        if o[i] == 'coffee':\n",
    "            coffee.append(p[i])\n",
    "        else:\n",
    "            tea.append(p[i])\n",
    "    r_c = sorted(coffee)\n",
    "    r_t = sorted(tea)\n",
    "    return r_c, r_t"
   ]
  },
  {
   "cell_type": "code",
   "execution_count": 73,
   "metadata": {},
   "outputs": [
    {
     "name": "stdout",
     "output_type": "stream",
     "text": [
      "['Stuart', 'George', 'Zoe', 'Alfie', 'Li'] ['tea', 'coffee', 'tea', 'tea', 'coffee']\n"
     ]
    }
   ],
   "source": [
    "x = {'Stuart':'tea','George':'coffee','Zoe':'tea','Alfie':'tea','Li':'coffee'}\n",
    "p = list(x.keys())\n",
    "o = list(x.values())\n",
    "print(p,o)"
   ]
  },
  {
   "cell_type": "code",
   "execution_count": 78,
   "metadata": {
    "scrolled": true
   },
   "outputs": [
    {
     "name": "stdout",
     "output_type": "stream",
     "text": [
      "['George', 'Li']\n",
      "['Alfie', 'Stuart', 'Zoe']\n"
     ]
    }
   ],
   "source": [
    "a,b = cof_tea({'Stuart':'tea','George':'coffee','Zoe':'tea','Alfie':'tea','Li':'coffee'})\n",
    "print(a)\n",
    "print(b)"
   ]
  },
  {
   "cell_type": "code",
   "execution_count": 61,
   "metadata": {},
   "outputs": [],
   "source": [
    "def string_reader(s):\n",
    "    reader = {}\n",
    "    sp = list(s)\n",
    "    reader"
   ]
  },
  {
   "cell_type": "code",
   "execution_count": 86,
   "metadata": {},
   "outputs": [
    {
     "data": {
      "text/plain": [
       "2"
      ]
     },
     "execution_count": 86,
     "metadata": {},
     "output_type": "execute_result"
    }
   ],
   "source": [
    "s = ['hello', 'there']\n",
    "p = 'hello there'\n",
    "list(p)\n",
    "list(s[0][2])\n",
    "len(s)"
   ]
  },
  {
   "cell_type": "code",
   "execution_count": 119,
   "metadata": {},
   "outputs": [],
   "source": [
    "def student_res():\n",
    "    scores = {'s151': 41,'s152': 55,'s153': 82,'s154': 47,'s155': 35,'s156': 34,'s157': 64,'s158': 57,\n",
    "          's159': 73, 's161': 82, 's162': 93, 's163': 54, 's164': 85, 's165': 16, 's166': 24}\n",
    "    student = list(scores.keys())\n",
    "    score = list(scores.values())\n",
    "    passed = []\n",
    "    for i in range(0, len(score)):\n",
    "        if score[i] >= 40:\n",
    "            passed.append(student[i])\n",
    "    count_1 = 0\n",
    "    count_2 = 0\n",
    "    for i in range(0,len(passed)):\n",
    "        if list(passed[i][2]) == '6':\n",
    "            count_1 += 1\n",
    "        else:\n",
    "            count_2 += 2\n",
    "    p_passed = round(len(passed) / len(scores) * 100, 2)\n",
    "    p_1 = round((4 / 6 )*100, 2)\n",
    "    p_2 = round((7 / 9)*100, 2)\n",
    "    return (p_passed, p_1, p_2)"
   ]
  },
  {
   "cell_type": "code",
   "execution_count": 120,
   "metadata": {},
   "outputs": [
    {
     "name": "stdout",
     "output_type": "stream",
     "text": [
      "(73.33, 66.67, 77.78)\n"
     ]
    }
   ],
   "source": [
    "print(student_res())"
   ]
  },
  {
   "cell_type": "code",
   "execution_count": 90,
   "metadata": {},
   "outputs": [
    {
     "name": "stdout",
     "output_type": "stream",
     "text": [
      "dict_keys(['s151', 's152', 's153', 's154', 's155', 's156', 's157', 's158', 's159', 's161', 's162', 's163', 's164', 's165', 's166']) dict_values([41, 55, 82, 47, 35, 34, 64, 57, 73, 82, 93, 54, 85, 16, 24])\n"
     ]
    }
   ],
   "source": [
    "scores = {'s151': 41,'s152': 55,'s153': 82,'s154': 47,'s155': 35,'s156': 34,'s157': 64,'s158': 57,\n",
    "          's159': 73, 's161': 82, 's162': 93, 's163': 54, 's164': 85, 's165': 16, 's166': 24}\n",
    "student = (scores.keys())\n",
    "score = (scores.values())\n",
    "print(student, score)"
   ]
  },
  {
   "cell_type": "code",
   "execution_count": null,
   "metadata": {},
   "outputs": [],
   "source": []
  }
 ],
 "metadata": {
  "kernelspec": {
   "display_name": "Python 3",
   "language": "python",
   "name": "python3"
  },
  "language_info": {
   "codemirror_mode": {
    "name": "ipython",
    "version": 3
   },
   "file_extension": ".py",
   "mimetype": "text/x-python",
   "name": "python",
   "nbconvert_exporter": "python",
   "pygments_lexer": "ipython3",
   "version": "3.7.1"
  }
 },
 "nbformat": 4,
 "nbformat_minor": 2
}
