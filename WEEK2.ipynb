{
 "cells": [
  {
   "cell_type": "code",
   "execution_count": 1,
   "metadata": {},
   "outputs": [
    {
     "name": "stdout",
     "output_type": "stream",
     "text": [
      "True\n",
      "True\n",
      "False\n"
     ]
    }
   ],
   "source": [
    "x = 3\n",
    "y = 4\n",
    "print(x!=y)\n",
    "print(x<=y)\n",
    "print(x>=y)"
   ]
  },
  {
   "cell_type": "code",
   "execution_count": 2,
   "metadata": {},
   "outputs": [
    {
     "name": "stdout",
     "output_type": "stream",
     "text": [
      "4\n",
      "4\n"
     ]
    }
   ],
   "source": [
    "print(20//5)\n",
    "print(24//5)"
   ]
  },
  {
   "cell_type": "code",
   "execution_count": 4,
   "metadata": {},
   "outputs": [
    {
     "name": "stdout",
     "output_type": "stream",
     "text": [
      "4.8\n"
     ]
    },
    {
     "data": {
      "text/plain": [
       "float"
      ]
     },
     "execution_count": 4,
     "metadata": {},
     "output_type": "execute_result"
    }
   ],
   "source": [
    "print(24/5)\n",
    "type(24/5)"
   ]
  },
  {
   "cell_type": "code",
   "execution_count": 3,
   "metadata": {},
   "outputs": [
    {
     "name": "stdout",
     "output_type": "stream",
     "text": [
      "0\n",
      "4\n"
     ]
    }
   ],
   "source": [
    "print(20%5)\n",
    "print(24%5)"
   ]
  },
  {
   "cell_type": "markdown",
   "metadata": {},
   "source": [
    "// : 나눗셈 한 후 몫을 나타냄 (integer)\n",
    "/ : 진짜 나눗셈 의미(float)\n",
    "% : 나눗셈 후 나머지를 의미"
   ]
  },
  {
   "cell_type": "code",
   "execution_count": 5,
   "metadata": {},
   "outputs": [
    {
     "data": {
      "text/plain": [
       "False"
      ]
     },
     "execution_count": 5,
     "metadata": {},
     "output_type": "execute_result"
    }
   ],
   "source": [
    "0.15+0.15 == 0.1+0.2"
   ]
  },
  {
   "cell_type": "code",
   "execution_count": 6,
   "metadata": {},
   "outputs": [
    {
     "data": {
      "text/plain": [
       "False"
      ]
     },
     "execution_count": 6,
     "metadata": {},
     "output_type": "execute_result"
    }
   ],
   "source": [
    "0.15+0.15 == 0.10+0.20"
   ]
  },
  {
   "cell_type": "code",
   "execution_count": 7,
   "metadata": {},
   "outputs": [
    {
     "name": "stdout",
     "output_type": "stream",
     "text": [
      "2566.0\n",
      "2566\n",
      "253.0\n",
      "253\n"
     ]
    }
   ],
   "source": [
    "i = 2566\n",
    "print(float(i))\n",
    "print(str(i))\n",
    "string_number = '253'\n",
    "print(float(string_number))\n",
    "print(int(string_number))"
   ]
  },
  {
   "cell_type": "code",
   "execution_count": 8,
   "metadata": {},
   "outputs": [
    {
     "name": "stdout",
     "output_type": "stream",
     "text": [
      "7\n",
      "7.0\n",
      "aaabbb\n"
     ]
    }
   ],
   "source": [
    "print(3+4)\n",
    "print(3+4.0)\n",
    "print('aaa'+'bbb')"
   ]
  },
  {
   "cell_type": "code",
   "execution_count": 9,
   "metadata": {},
   "outputs": [
    {
     "name": "stdout",
     "output_type": "stream",
     "text": [
      "Input your name > Sinyoung\n",
      "Hello Sinyoung\n"
     ]
    }
   ],
   "source": [
    "x = input('Input your name > ')\n",
    "print('Hello '+x)"
   ]
  },
  {
   "cell_type": "code",
   "execution_count": 10,
   "metadata": {},
   "outputs": [
    {
     "name": "stdout",
     "output_type": "stream",
     "text": [
      "Enter a number >100\n",
      "110\n"
     ]
    }
   ],
   "source": [
    "x = input('Enter a number >')\n",
    "print(10+int(x))"
   ]
  },
  {
   "cell_type": "code",
   "execution_count": 11,
   "metadata": {},
   "outputs": [
    {
     "name": "stdout",
     "output_type": "stream",
     "text": [
      "['my', 1, 4.5, 'you', 432, 11.0, 33, 8, 4, 10, 2, 6]\n",
      "7\n",
      "['my', 1, 4.5, 'you', 432, 11.0, 33, 'extra']\n",
      "1\n",
      "[2, 4, 6, 8, 10]\n",
      "[1, 2, 1, 2, 1, 2, 1, 2, 1, 2, 1, 2, 1, 2, 1, 2, 1, 2, 1, 2, 1, 2, 1, 2, 1, 2, 1, 2, 1, 2, 1, 2, 1, 2, 1, 2, 1, 2, 1, 2]\n",
      "True\n",
      "False\n"
     ]
    }
   ],
   "source": [
    "a = ['my',1,4.5,'you',432,11.0,33]\n",
    "b = [8,4,10,2,6]\n",
    "\n",
    "# Join two lists together with + (note more operator overloading):\n",
    "print(a+b)\n",
    "\n",
    "# Find the length of a list with the len() function:\n",
    "print(len(a))\n",
    "\n",
    "# Append an item to a list:\n",
    "a.append('extra')\n",
    "print(a)\n",
    "\n",
    "# Make a list of lists (a bit like a matrix):\n",
    "M = [[1,0,0],[0,1,0],[0,0,1]]\n",
    "print(M[0][0])\n",
    "\n",
    "# Sort a list:\n",
    "print(sorted(b))\n",
    "\n",
    "# Another operator overloading (for * this time) - create a list \n",
    "# with 20 copies a given one:\n",
    "print(20*[1,2])\n",
    "\n",
    "# Check if something is in a list:\n",
    "print('my' in a)\n",
    "print('and' in a)"
   ]
  },
  {
   "cell_type": "code",
   "execution_count": 12,
   "metadata": {},
   "outputs": [
    {
     "name": "stdout",
     "output_type": "stream",
     "text": [
      "[0, 1, 2, 3, 4, 5, 6, 7, 8, 9]\n"
     ]
    }
   ],
   "source": [
    "a = list(range(10))\n",
    "print(a)"
   ]
  },
  {
   "cell_type": "code",
   "execution_count": 13,
   "metadata": {},
   "outputs": [
    {
     "name": "stdout",
     "output_type": "stream",
     "text": [
      "[0, 1, 2, 3, 4, 5, 6, 7, 8, 9]\n",
      "[-5, -4, -3, -2, -1, 0, 1, 2, 3, 4, 5, 6, 7, 8, 9]\n",
      "[1, 3, 5, 7]\n",
      "[10, 9, 8, 7, 6, 5, 4, 3, 2, 1]\n"
     ]
    }
   ],
   "source": [
    "print(list(range(0,10,1)))\n",
    "print(list(range(-5,10,1)))\n",
    "print(list(range(1,9,2)))\n",
    "print(list(range(10,0,-1)))\n",
    "# Check you understand what is being produced by each line and why."
   ]
  },
  {
   "cell_type": "code",
   "execution_count": 15,
   "metadata": {},
   "outputs": [
    {
     "name": "stdout",
     "output_type": "stream",
     "text": [
      "[0.  0.2 0.4 0.6 0.8]\n"
     ]
    },
    {
     "data": {
      "text/plain": [
       "<Figure size 640x480 with 1 Axes>"
      ]
     },
     "metadata": {},
     "output_type": "display_data"
    }
   ],
   "source": [
    "from pylab import *\n",
    "a = arange(0,1,0.2)\n",
    "print(a)\n",
    "\n",
    "x = arange(-10,10,0.1)\n",
    "y = x**2\n",
    "\n",
    "plot(x,y)\n",
    "show()"
   ]
  },
  {
   "cell_type": "code",
   "execution_count": 20,
   "metadata": {},
   "outputs": [
    {
     "name": "stdout",
     "output_type": "stream",
     "text": [
      "[1 3 5 7 9]\n",
      "[0.1]\n"
     ]
    }
   ],
   "source": [
    "print(arange(1,10,2))\n",
    "print(arange(0.1,0.2))"
   ]
  },
  {
   "cell_type": "markdown",
   "metadata": {},
   "source": [
    "QUIZ 1"
   ]
  },
  {
   "cell_type": "code",
   "execution_count": 21,
   "metadata": {},
   "outputs": [],
   "source": [
    "def join_strings(a,b):\n",
    "    return a,b"
   ]
  },
  {
   "cell_type": "code",
   "execution_count": 22,
   "metadata": {},
   "outputs": [
    {
     "name": "stdout",
     "output_type": "stream",
     "text": [
      "('hello ', 'there')\n"
     ]
    }
   ],
   "source": [
    "print(join_strings('hello ','there'))"
   ]
  },
  {
   "cell_type": "code",
   "execution_count": 25,
   "metadata": {},
   "outputs": [],
   "source": [
    "def join_strings(a,b):\n",
    "    return a+b"
   ]
  },
  {
   "cell_type": "code",
   "execution_count": 26,
   "metadata": {},
   "outputs": [
    {
     "name": "stdout",
     "output_type": "stream",
     "text": [
      "hello there\n"
     ]
    }
   ],
   "source": [
    "print(join_strings('hello ','there'))"
   ]
  },
  {
   "cell_type": "markdown",
   "metadata": {},
   "source": [
    "Quiz 2"
   ]
  },
  {
   "cell_type": "code",
   "execution_count": 29,
   "metadata": {},
   "outputs": [],
   "source": [
    "def return_input_plus_ten():\n",
    "    x = input()\n",
    "    return int(x)+10\n",
    "\n",
    "#여기서 return에 그냥 x만 쓴다면 오류발생. 왜냐면, x의 타입이 뭔지 모르니까.\n",
    "#그래서 int(x)로 해줘야함"
   ]
  },
  {
   "cell_type": "code",
   "execution_count": 30,
   "metadata": {},
   "outputs": [
    {
     "name": "stdout",
     "output_type": "stream",
     "text": [
      "1111\n",
      "1121\n"
     ]
    }
   ],
   "source": [
    "print(return_input_plus_ten())"
   ]
  },
  {
   "cell_type": "code",
   "execution_count": 31,
   "metadata": {},
   "outputs": [
    {
     "name": "stdout",
     "output_type": "stream",
     "text": [
      "-5\n",
      "5\n"
     ]
    }
   ],
   "source": [
    "print(return_input_plus_ten())"
   ]
  },
  {
   "cell_type": "markdown",
   "metadata": {},
   "source": [
    "Quiz 3"
   ]
  },
  {
   "cell_type": "code",
   "execution_count": 32,
   "metadata": {},
   "outputs": [],
   "source": [
    "def integer_to_string(i):\n",
    "    x = int(i)*100\n",
    "    return x"
   ]
  },
  {
   "cell_type": "code",
   "execution_count": 33,
   "metadata": {},
   "outputs": [
    {
     "name": "stdout",
     "output_type": "stream",
     "text": [
      "500\n"
     ]
    }
   ],
   "source": [
    "print(integer_to_string(5))"
   ]
  },
  {
   "cell_type": "markdown",
   "metadata": {},
   "source": [
    "Quiz 4"
   ]
  },
  {
   "cell_type": "code",
   "execution_count": 34,
   "metadata": {},
   "outputs": [],
   "source": [
    "def float_split(x):\n",
    "    a = int(x)\n",
    "    b = x - int(x)\n",
    "    return a,b"
   ]
  },
  {
   "cell_type": "code",
   "execution_count": 36,
   "metadata": {},
   "outputs": [
    {
     "name": "stdout",
     "output_type": "stream",
     "text": [
      "True\n"
     ]
    }
   ],
   "source": [
    "a, b = float_split(3.456)\n",
    "print(a==3 and abs(b-0.456)<1e-12)"
   ]
  },
  {
   "cell_type": "markdown",
   "metadata": {},
   "source": [
    "Quiz 5"
   ]
  },
  {
   "cell_type": "code",
   "execution_count": 38,
   "metadata": {},
   "outputs": [],
   "source": [
    "import math\n",
    "\n",
    "def f(x):\n",
    "    f1 = x**2+3*x+3\n",
    "    return f1\n",
    "\n",
    "def g(x):\n",
    "    g1 = math.sin(x)+(2*(x-2))/(x+1)\n",
    "    return g1\n",
    "\n",
    "def comp(x):\n",
    "    com = f(g(x))\n",
    "    return com"
   ]
  },
  {
   "cell_type": "code",
   "execution_count": 39,
   "metadata": {},
   "outputs": [
    {
     "name": "stdout",
     "output_type": "stream",
     "text": [
      "133 0.911 6.561\n"
     ]
    }
   ],
   "source": [
    "x = 10\n",
    "print(round(f(x),3),round(g(x),3),round(comp(x),3))"
   ]
  },
  {
   "cell_type": "markdown",
   "metadata": {},
   "source": [
    "Quiz 6"
   ]
  },
  {
   "cell_type": "code",
   "execution_count": 40,
   "metadata": {},
   "outputs": [],
   "source": [
    "def my_sum():\n",
    "    total = 0\n",
    "    for i in range (1,11):\n",
    "        total = total + (i+1)\n",
    "    return total"
   ]
  },
  {
   "cell_type": "code",
   "execution_count": 41,
   "metadata": {},
   "outputs": [
    {
     "data": {
      "text/plain": [
       "65"
      ]
     },
     "execution_count": 41,
     "metadata": {},
     "output_type": "execute_result"
    }
   ],
   "source": [
    "my_sum()"
   ]
  },
  {
   "cell_type": "markdown",
   "metadata": {},
   "source": [
    "Quiz 7"
   ]
  },
  {
   "cell_type": "code",
   "execution_count": 44,
   "metadata": {},
   "outputs": [],
   "source": [
    "def geometric_sum(a,r):\n",
    "    total = 0\n",
    "    for i in range (0,26):\n",
    "        total = total + a*(r**i)\n",
    "    return total"
   ]
  },
  {
   "cell_type": "code",
   "execution_count": 45,
   "metadata": {},
   "outputs": [
    {
     "name": "stdout",
     "output_type": "stream",
     "text": [
      "1.429\n"
     ]
    }
   ],
   "source": [
    "print(round(geometric_sum(1,0.3),3))"
   ]
  },
  {
   "cell_type": "markdown",
   "metadata": {},
   "source": [
    "Quiz 8"
   ]
  },
  {
   "cell_type": "code",
   "execution_count": 48,
   "metadata": {},
   "outputs": [],
   "source": [
    "import math\n",
    "\n",
    "def sinh_approx(x):\n",
    "    total = 0\n",
    "    for i in range(0,51):\n",
    "        total = total + (x**(2*i+1))/math.factorial(2*i+1)\n",
    "    return total"
   ]
  },
  {
   "cell_type": "code",
   "execution_count": 49,
   "metadata": {},
   "outputs": [
    {
     "name": "stdout",
     "output_type": "stream",
     "text": [
      "1.175\n"
     ]
    }
   ],
   "source": [
    "print(round(sinh_approx(1.0),3))"
   ]
  },
  {
   "cell_type": "markdown",
   "metadata": {},
   "source": [
    "Quiz 9"
   ]
  },
  {
   "cell_type": "code",
   "execution_count": 50,
   "metadata": {},
   "outputs": [],
   "source": [
    "def sort_names():\n",
    "    x = input(\"Please enter the first name: \")\n",
    "    y = input(\"Please enter the second name: \")\n",
    "    z = [x,y]\n",
    "    u = sorted(z)\n",
    "    print(\"The name that comes first alphabetically is: \")\n",
    "    print(u[0])"
   ]
  },
  {
   "cell_type": "code",
   "execution_count": 52,
   "metadata": {},
   "outputs": [
    {
     "name": "stdout",
     "output_type": "stream",
     "text": [
      "Please enter the first name: Stuart\n",
      "Please enter the second name: Stephanie\n",
      "The name that comes first alphabetically is: \n",
      "Stephanie\n"
     ]
    }
   ],
   "source": [
    "sort_names()"
   ]
  },
  {
   "cell_type": "markdown",
   "metadata": {},
   "source": [
    "Quiz 11"
   ]
  },
  {
   "cell_type": "code",
   "execution_count": 53,
   "metadata": {},
   "outputs": [],
   "source": [
    "def fibonacci():\n",
    "    a = [0,1]\n",
    "    for i in range (0,28):\n",
    "        x = a[i+1] + a[i]\n",
    "        a.append(x)\n",
    "    return a"
   ]
  },
  {
   "cell_type": "code",
   "execution_count": 54,
   "metadata": {},
   "outputs": [
    {
     "data": {
      "text/plain": [
       "[0,\n",
       " 1,\n",
       " 1,\n",
       " 2,\n",
       " 3,\n",
       " 5,\n",
       " 8,\n",
       " 13,\n",
       " 21,\n",
       " 34,\n",
       " 55,\n",
       " 89,\n",
       " 144,\n",
       " 233,\n",
       " 377,\n",
       " 610,\n",
       " 987,\n",
       " 1597,\n",
       " 2584,\n",
       " 4181,\n",
       " 6765,\n",
       " 10946,\n",
       " 17711,\n",
       " 28657,\n",
       " 46368,\n",
       " 75025,\n",
       " 121393,\n",
       " 196418,\n",
       " 317811,\n",
       " 514229]"
      ]
     },
     "execution_count": 54,
     "metadata": {},
     "output_type": "execute_result"
    }
   ],
   "source": [
    "fibonacci()"
   ]
  },
  {
   "cell_type": "markdown",
   "metadata": {},
   "source": [
    "Quiz 12"
   ]
  },
  {
   "cell_type": "code",
   "execution_count": 55,
   "metadata": {},
   "outputs": [],
   "source": [
    "def q_sequence():\n",
    "    q = [1,1]\n",
    "    for i in range(0,298):\n",
    "        a = q[(i+2)-q[i+1]]+q[(i+2)-q[i]]\n",
    "        q.append(a)\n",
    "    return q"
   ]
  },
  {
   "cell_type": "code",
   "execution_count": 56,
   "metadata": {},
   "outputs": [
    {
     "data": {
      "text/plain": [
       "[1,\n",
       " 1,\n",
       " 2,\n",
       " 3,\n",
       " 3,\n",
       " 4,\n",
       " 5,\n",
       " 5,\n",
       " 6,\n",
       " 6,\n",
       " 6,\n",
       " 8,\n",
       " 8,\n",
       " 8,\n",
       " 10,\n",
       " 9,\n",
       " 10,\n",
       " 11,\n",
       " 11,\n",
       " 12,\n",
       " 12,\n",
       " 12,\n",
       " 12,\n",
       " 16,\n",
       " 14,\n",
       " 14,\n",
       " 16,\n",
       " 16,\n",
       " 16,\n",
       " 16,\n",
       " 20,\n",
       " 17,\n",
       " 17,\n",
       " 20,\n",
       " 21,\n",
       " 19,\n",
       " 20,\n",
       " 22,\n",
       " 21,\n",
       " 22,\n",
       " 23,\n",
       " 23,\n",
       " 24,\n",
       " 24,\n",
       " 24,\n",
       " 24,\n",
       " 24,\n",
       " 32,\n",
       " 24,\n",
       " 25,\n",
       " 30,\n",
       " 28,\n",
       " 26,\n",
       " 30,\n",
       " 30,\n",
       " 28,\n",
       " 32,\n",
       " 30,\n",
       " 32,\n",
       " 32,\n",
       " 32,\n",
       " 32,\n",
       " 40,\n",
       " 33,\n",
       " 31,\n",
       " 38,\n",
       " 35,\n",
       " 33,\n",
       " 39,\n",
       " 40,\n",
       " 37,\n",
       " 38,\n",
       " 40,\n",
       " 39,\n",
       " 40,\n",
       " 39,\n",
       " 42,\n",
       " 40,\n",
       " 41,\n",
       " 43,\n",
       " 44,\n",
       " 43,\n",
       " 43,\n",
       " 46,\n",
       " 44,\n",
       " 45,\n",
       " 47,\n",
       " 47,\n",
       " 46,\n",
       " 48,\n",
       " 48,\n",
       " 48,\n",
       " 48,\n",
       " 48,\n",
       " 48,\n",
       " 64,\n",
       " 41,\n",
       " 52,\n",
       " 54,\n",
       " 56,\n",
       " 48,\n",
       " 54,\n",
       " 54,\n",
       " 50,\n",
       " 60,\n",
       " 52,\n",
       " 54,\n",
       " 58,\n",
       " 60,\n",
       " 53,\n",
       " 60,\n",
       " 60,\n",
       " 52,\n",
       " 62,\n",
       " 66,\n",
       " 55,\n",
       " 62,\n",
       " 68,\n",
       " 62,\n",
       " 58,\n",
       " 72,\n",
       " 58,\n",
       " 61,\n",
       " 78,\n",
       " 57,\n",
       " 71,\n",
       " 68,\n",
       " 64,\n",
       " 63,\n",
       " 73,\n",
       " 63,\n",
       " 71,\n",
       " 72,\n",
       " 72,\n",
       " 80,\n",
       " 61,\n",
       " 71,\n",
       " 77,\n",
       " 65,\n",
       " 80,\n",
       " 71,\n",
       " 69,\n",
       " 77,\n",
       " 75,\n",
       " 73,\n",
       " 77,\n",
       " 79,\n",
       " 76,\n",
       " 80,\n",
       " 79,\n",
       " 75,\n",
       " 82,\n",
       " 77,\n",
       " 80,\n",
       " 80,\n",
       " 78,\n",
       " 83,\n",
       " 83,\n",
       " 78,\n",
       " 85,\n",
       " 82,\n",
       " 85,\n",
       " 84,\n",
       " 84,\n",
       " 88,\n",
       " 83,\n",
       " 87,\n",
       " 88,\n",
       " 87,\n",
       " 86,\n",
       " 90,\n",
       " 88,\n",
       " 87,\n",
       " 92,\n",
       " 90,\n",
       " 91,\n",
       " 92,\n",
       " 92,\n",
       " 94,\n",
       " 92,\n",
       " 93,\n",
       " 94,\n",
       " 94,\n",
       " 96,\n",
       " 94,\n",
       " 96,\n",
       " 96,\n",
       " 96,\n",
       " 96,\n",
       " 96,\n",
       " 96,\n",
       " 128,\n",
       " 72,\n",
       " 96,\n",
       " 115,\n",
       " 100,\n",
       " 84,\n",
       " 114,\n",
       " 110,\n",
       " 93,\n",
       " 106,\n",
       " 124,\n",
       " 82,\n",
       " 101,\n",
       " 111,\n",
       " 108,\n",
       " 118,\n",
       " 104,\n",
       " 108,\n",
       " 106,\n",
       " 114,\n",
       " 104,\n",
       " 114,\n",
       " 109,\n",
       " 100,\n",
       " 109,\n",
       " 120,\n",
       " 112,\n",
       " 108,\n",
       " 118,\n",
       " 106,\n",
       " 105,\n",
       " 130,\n",
       " 110,\n",
       " 114,\n",
       " 115,\n",
       " 112,\n",
       " 107,\n",
       " 120,\n",
       " 114,\n",
       " 122,\n",
       " 121,\n",
       " 120,\n",
       " 114,\n",
       " 138,\n",
       " 110,\n",
       " 122,\n",
       " 119,\n",
       " 120,\n",
       " 130,\n",
       " 132,\n",
       " 113,\n",
       " 133,\n",
       " 123,\n",
       " 118,\n",
       " 125,\n",
       " 121,\n",
       " 129,\n",
       " 122,\n",
       " 136,\n",
       " 129,\n",
       " 116,\n",
       " 149,\n",
       " 137,\n",
       " 120,\n",
       " 123,\n",
       " 143,\n",
       " 146,\n",
       " 107,\n",
       " 139,\n",
       " 138,\n",
       " 139,\n",
       " 135,\n",
       " 120,\n",
       " 146,\n",
       " 135,\n",
       " 143,\n",
       " 129,\n",
       " 151,\n",
       " 133,\n",
       " 135,\n",
       " 136,\n",
       " 148,\n",
       " 148,\n",
       " 136,\n",
       " 144,\n",
       " 143,\n",
       " 152,\n",
       " 129,\n",
       " 139,\n",
       " 151,\n",
       " 140,\n",
       " 148,\n",
       " 136,\n",
       " 151,\n",
       " 159,\n",
       " 125,\n",
       " 147,\n",
       " 153,\n",
       " 148,\n",
       " 154,\n",
       " 152,\n",
       " 136,\n",
       " 152,\n",
       " 155,\n",
       " 146,\n",
       " 144,\n",
       " 162,\n",
       " 151,\n",
       " 157]"
      ]
     },
     "execution_count": 56,
     "metadata": {},
     "output_type": "execute_result"
    }
   ],
   "source": [
    "q_sequence()"
   ]
  }
 ],
 "metadata": {
  "kernelspec": {
   "display_name": "Python 3",
   "language": "python",
   "name": "python3"
  },
  "language_info": {
   "codemirror_mode": {
    "name": "ipython",
    "version": 3
   },
   "file_extension": ".py",
   "mimetype": "text/x-python",
   "name": "python",
   "nbconvert_exporter": "python",
   "pygments_lexer": "ipython3",
   "version": "3.7.3"
  }
 },
 "nbformat": 4,
 "nbformat_minor": 2
}
