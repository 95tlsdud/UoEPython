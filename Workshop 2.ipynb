{
 "cells": [
  {
   "cell_type": "markdown",
   "metadata": {},
   "source": [
    "## Next steps"
   ]
  },
  {
   "cell_type": "markdown",
   "metadata": {},
   "source": [
    "You saw some basics of python last week, so this week we are going to continue with some of those ideas and introduce some more fundamental programming concepts.\n",
    "\n"
   ]
  },
  {
   "cell_type": "markdown",
   "metadata": {
    "collapsed": true
   },
   "source": [
    "### Types"
   ]
  },
  {
   "cell_type": "markdown",
   "metadata": {},
   "source": [
    "#### Strings\n",
    "All the variables defined in python have a distinct *type*, this means that they contain a certain type of data (letters, numbers etc), and has consequences for how the computer then stores these variables in its memory as lots of 1s and 0s. \n",
    "You have already seen the first type - a *string*, that is some text characters. We can define a string variable as follows - you can also use the `type()` function to find out the type of a defined variable."
   ]
  },
  {
   "cell_type": "code",
   "execution_count": null,
   "metadata": {
    "collapsed": true
   },
   "outputs": [],
   "source": [
    "test_string = \"Hello I am a string of letters!\"\n",
    "print(test_string)\n",
    "type(test_string)"
   ]
  },
  {
   "cell_type": "markdown",
   "metadata": {},
   "source": [
    "You can also use single quotes to define a string:"
   ]
  },
  {
   "cell_type": "code",
   "execution_count": null,
   "metadata": {
    "collapsed": true
   },
   "outputs": [],
   "source": [
    "second_test_string = 'I am also a string'\n",
    "print(second_test_string)"
   ]
  },
  {
   "cell_type": "markdown",
   "metadata": {},
   "source": [
    "You can also access the individual characters in a string. The way to do that is as follows:"
   ]
  },
  {
   "cell_type": "code",
   "execution_count": null,
   "metadata": {
    "collapsed": true
   },
   "outputs": [],
   "source": [
    "my_string = 'Hello I am a string'\n",
    "print(my_string[0])\n",
    "print(my_string[1])\n",
    "print(my_string[-1])"
   ]
  },
  {
   "cell_type": "markdown",
   "metadata": {},
   "source": [
    "Here the number in square brackets is the position of the character. Note that the indexing starts at position 0 for the first character. If you want you can index from the end of the string by using a negative index, so position -1 is the last character."
   ]
  },
  {
   "cell_type": "markdown",
   "metadata": {},
   "source": [
    "#### Booleans\n",
    "Booleans are the most simple type, they represent only two values `True` or `False`, and are very useful for constructing more complicated codes. In particular often we will want the computer to do something different in different cases - to make a decision, and change behaviour based on that decision. Boolean variables can be useful in helping us to code such a behaviour. To define a Boolean we can do the following:"
   ]
  },
  {
   "cell_type": "code",
   "execution_count": null,
   "metadata": {
    "collapsed": true
   },
   "outputs": [],
   "source": [
    "a = True\n",
    "b = False\n",
    "print(a and b)\n",
    "type(a)"
   ]
  },
  {
   "cell_type": "markdown",
   "metadata": {},
   "source": [
    "We can use simple logical operations such as `and`, `or` and `not` with Boolean variables as well to construct more complicated outcomes.\n",
    "\n",
    "We can also use tests of numbers and strings to construct a Boolean value. So, for instance testing if two numbers are equal, or if one is larger/smaller than another.\n"
   ]
  },
  {
   "cell_type": "code",
   "execution_count": null,
   "metadata": {
    "collapsed": true
   },
   "outputs": [],
   "source": [
    "x = 3\n",
    "y = 4\n",
    "my_string2 = 'George Boole'\n",
    "print(x < y)\n",
    "print(x==y)\n",
    "print(x==y or 5>2)\n",
    "print(my_string2[-3]=='o')"
   ]
  },
  {
   "cell_type": "markdown",
   "metadata": {},
   "source": [
    "Note when we are testing if two things are equal, the symbol to do so is two equals signs, so `a==b`, tests whether a is the same as b. We can test whether two things are not equal by using `!=`, like so:"
   ]
  },
  {
   "cell_type": "code",
   "execution_count": null,
   "metadata": {
    "collapsed": true
   },
   "outputs": [],
   "source": [
    "x = 3\n",
    "y = 4\n",
    "print(x!=y)\n",
    "print(x<=y)\n",
    "print(x>=y)"
   ]
  },
  {
   "cell_type": "markdown",
   "metadata": {},
   "source": [
    "#### Numbers - integers, and floating point\n",
    "Being mathematicians we are very interested in representing numbers on the computer as we will need to do so to work on almost any mathematical task.\n",
    "We know that there are different sets of numbers, so for the moment let's concentrate on integers and real numbers. Both of these sets of numbers are infinite - and the computer only has a finite memory size, so some compromises must be made to represent these numbers on a computer. \n",
    "\n",
    "First let's consider integers. Since these are whole numbers we would like to represent them exactly, so the compromise we make is that not all integers can be represented - there is a maximum integer beyond which the computer can't continue to store the number (although on python this is very big indeed - it tries very hard to pretend that it can represent infinitely many integers!). For reasonably small integers python just behaves how you would expect - you can add and multiply integers in the usual way:"
   ]
  },
  {
   "cell_type": "code",
   "execution_count": null,
   "metadata": {
    "collapsed": true
   },
   "outputs": [],
   "source": [
    "print(100027*38487)\n",
    "print(555+666)\n",
    "print(492-1730)"
   ]
  },
  {
   "cell_type": "markdown",
   "metadata": {},
   "source": [
    "When you get to larger integers - python just deals with it! We can make it calculate a [googol](https://en.wikipedia.org/wiki/Googol) as follows:"
   ]
  },
  {
   "cell_type": "code",
   "execution_count": null,
   "metadata": {
    "collapsed": true
   },
   "outputs": [],
   "source": [
    "googol = 10**100\n",
    "print(googol)\n",
    "type(googol)"
   ]
  },
  {
   "cell_type": "markdown",
   "metadata": {},
   "source": [
    "Behind the scenes python is using something called a *long* integer to manipulate such large numbers. This affects us very little thankfully - we just treat all integers the same in our code, however sometimes (and in some versions of python) you will see it adds an *L* to the end of a long number like this. This denotes that it is being stored as a long integer, it doesn't mean that the number has a letter attached to it.\n",
    "\n",
    "The next thing that you are now thinking is what about division? Well if you want to divide two integers and get an integer as the result you have to use *integer division*, that is denoted by a the division operator twice, as follows:"
   ]
  },
  {
   "cell_type": "code",
   "execution_count": null,
   "metadata": {
    "collapsed": true
   },
   "outputs": [],
   "source": [
    "print(20//5)\n",
    "print(24//5)"
   ]
  },
  {
   "cell_type": "markdown",
   "metadata": {},
   "source": [
    "Now note what happens. In the first case we have the answer we would expect, however for the second case note that *integer division* rounds down to the nearest integer. \n",
    "\n",
    "Now the next obvious question - if // is an operator, what about / ?\n",
    "Well, that denotes ordinary division, so you get a result that you might expect when you calculate 24/5, in other words a fraction, as follows:"
   ]
  },
  {
   "cell_type": "code",
   "execution_count": null,
   "metadata": {
    "collapsed": true
   },
   "outputs": [],
   "source": [
    "print(24/5)\n",
    "type(24/5)"
   ]
  },
  {
   "cell_type": "markdown",
   "metadata": {},
   "source": [
    "This brings us on to talking about real numbers and their representation on the computer, which is called a floating point number (with type denoted `float` above).\n",
    "\n",
    "#### Floating point numbers\n",
    "\n",
    "Floating point numbers are the main way that the real numbers are represented on a computer. I won't explain the details of how this representation works in this worksheet, but you should be familiar with the basics. Here are some links with some more information about them: \n",
    "\n",
    "-[Basic guide](http://floating-point-gui.de/basic/)\n",
    "\n",
    "-[More from wikipedia](https://en.wikipedia.org/wiki/Floating-point_arithmetic)\n",
    "\n",
    "-[Comprehensive guide](https://docs.oracle.com/cd/E19957-01/806-3568/ncg_goldberg.html) (seriously - this contains as much as I know about floating point numbers, it is an expert guide and a great reference)\n",
    "\n",
    "\n",
    "Now you have those links we will worry about the practical side of using these numbers in python.\n",
    "\n",
    "Mostly floating point numbers work how you would expect real numbers to work. You can add, multiply, subtract and divide just as you might expect. "
   ]
  },
  {
   "cell_type": "code",
   "execution_count": null,
   "metadata": {
    "collapsed": true
   },
   "outputs": [],
   "source": [
    "print(3.456+11.888)\n",
    "print(99.9/0.1)\n",
    "print(2.0*11.4)\n",
    "print(1.5e-5+1.0e-6)\n",
    "import numpy as np\n",
    "print(np.sqrt(-5.0))"
   ]
  },
  {
   "cell_type": "markdown",
   "metadata": {},
   "source": [
    "Here we have done some basic calculations using floating point numbers. Notice that the way to write $1\\times10^{-5}$ would be to write `1.0e-5`, the `e` means $\\times10$ to a power. \n",
    "\n",
    "I have also introduced a new import style here, sometimes it is useful to rename a module when you import it to save some typing. Recall to access items inside the module *numpy* when we `import numpy` we have to type `numpy.item_name`. To save some writing we can `import numpy as np` and then we can shorten our typing to `np.item_name`.\n",
    "\n",
    "Notice that as we might expect when I try to take the square root of a negative number I cause a problem, the answer is not a real number anymore, and so can't be represented by a float, I need a complex number to represent the answer (we'll talk about that another time, but essentially this is just two floating point numbers `x` and `y` to represent $x+iy$. Some calculations with floating point numbers that are not possible (division by zero, square root of a negative number) return an answer `nan`, which is short for *Not a number*. \n",
    "\n",
    "\n",
    "The main thing to be aware of when using floating point numbers is that they are approximations to the real numbers, and so you should be careful when checking two floating point numbers are equal to one another, this can lead to strange results. See for instance"
   ]
  },
  {
   "cell_type": "code",
   "execution_count": null,
   "metadata": {
    "collapsed": true
   },
   "outputs": [],
   "source": [
    "0.15+0.15 == 0.1+0.2"
   ]
  },
  {
   "cell_type": "markdown",
   "metadata": {},
   "source": [
    "What is happening here? each of the numbers is an approximation, and we know we should get the same answer 0.3 doing both calculations, but small errors accumulating from the approximations lead the answers we get from 0.15+0.15, and 0.1+0.2 to be different.\n",
    "\n",
    "But let's not overstate the problem - while we should be careful here, the difference between these two calculations due to the floating point approximation is very tiny"
   ]
  },
  {
   "cell_type": "code",
   "execution_count": null,
   "metadata": {
    "collapsed": true
   },
   "outputs": [],
   "source": [
    "x = 0.15+0.15\n",
    "y = 0.1+0.2\n",
    "print(abs(x-y)<1e-15)"
   ]
  },
  {
   "cell_type": "markdown",
   "metadata": {},
   "source": [
    "Incidentally this last formulation is a good way to check if two floating point numbers are equal. Rather than testing that they are exactly equal, check whether the absolute value of the difference between them is tiny. That is check $\\left|x-y\\right|<1\\times10^{-15}$ say.\n",
    "\n",
    "Lastly, when you write out a floating point number it is a good idea to round it so that only a few decimal places are printed out to the screen, this is not only easier to read, but makes it easier to compare numbers in the output of your code. You can use the `round()` function to round a float:"
   ]
  },
  {
   "cell_type": "code",
   "execution_count": null,
   "metadata": {
    "collapsed": true
   },
   "outputs": [],
   "source": [
    "x = 3.86086494976582\n",
    "y = round(x,3)\n",
    "print(x)\n",
    "print(y)"
   ]
  },
  {
   "cell_type": "markdown",
   "metadata": {},
   "source": [
    "The function `round` takes two arguments. The first is the number that you want to round, the second is the number of decimal places you want to round to."
   ]
  },
  {
   "cell_type": "markdown",
   "metadata": {},
   "source": [
    "### Type-casting, duck typing\n",
    "\n",
    "Type-casting is the technical name for shifting a variable of one type to another. Type-casting happened automatically when we divided one integer by another, the result was automatically cast to a float since it could no longer be represented as an integer. However this doesn't always happen, the result of taking $\\sqrt{-5}$ didn't get cast to a complex number representation for instance.\n",
    "\n",
    "If we want to be explicit about changing the type of one thing to another there are some functions we can use `int()` converts something to an integer, `float()` to a floating point number, `str()` to a string. Here are some examples:"
   ]
  },
  {
   "cell_type": "code",
   "execution_count": null,
   "metadata": {
    "collapsed": true
   },
   "outputs": [],
   "source": [
    "i = 2566\n",
    "print(float(i))\n",
    "print(str(i))\n",
    "string_number = '253'\n",
    "print(float(string_number))\n",
    "print(int(string_number))"
   ]
  },
  {
   "cell_type": "markdown",
   "metadata": {},
   "source": [
    "Can you work out what is going on in each case above?\n",
    "\n",
    "How does python know what type a variable should be anyway?\n",
    "\n",
    "There are no explicit type declarations in python (in some programming languages there are e.g. C, Java, there you have to say what type a variable is before you are allowed to use it). Python uses what is called *duck-typing* to decide on the type of a variable. This is related to the quote\n",
    "\n",
    "`If it looks like a duck and quacks like a duck - then it's a duck.`\n",
    "\n",
    "So python assumes the type of a variable by the way you define it, and the way you use it.\n",
    "\n",
    "(Some difficult technical details [here](http://www.voidspace.org.uk/python/articles/duck_typing.shtml) if you are interested in reading more - have a look at the first two sections of this page). "
   ]
  },
  {
   "cell_type": "markdown",
   "metadata": {},
   "source": [
    "### Operators and 'overloading'\n",
    "\n",
    "We are well used to operators in mathematics, for instance + a symbol placed between two numbers 'operates' on both of them to denote that we should add them together. \n",
    "\n",
    "It is worth noting that such operators in python can mean different things in different contexts, that is depending on the types of the things they operate on. For example"
   ]
  },
  {
   "cell_type": "code",
   "execution_count": null,
   "metadata": {
    "collapsed": true
   },
   "outputs": [],
   "source": [
    "print(3+4)\n",
    "print(3+4.0)\n",
    "print('aaa'+'bbb')"
   ]
  },
  {
   "cell_type": "markdown",
   "metadata": {},
   "source": [
    "Note then that + adds together two numbers (and note the behaviour when one is an `int` and one is a `float`). However when used on two strings it simply joins them together, one after the other into a longer string.\n",
    "\n",
    "This is called *operator overloading*, that is the same symbol or operator +, means different things in different contexts (it is overloaded)."
   ]
  },
  {
   "cell_type": "markdown",
   "metadata": {},
   "source": [
    "### Input\n",
    "\n",
    "Sometimes it is useful to interact with your code as it runs (for instance to get input from a user). One way to do that is to read input from the user that is typed in. The way to do that is to use the `input()` function. \n",
    "\n",
    "Two things to note about the `input()` function. It takes one argument which is a string that it prints out to ask for the user's input. Secondly the input it receives is always a string, if you want to read in a number you will need to use `input()` and then convert the type of the string that you receive.\n",
    "\n",
    "Note that if you run the following lines nothing will run in the notebook until you fill in the input question box."
   ]
  },
  {
   "cell_type": "code",
   "execution_count": null,
   "metadata": {
    "collapsed": true
   },
   "outputs": [],
   "source": [
    "x = input('Input your name > ')\n",
    "print('Hello '+x)"
   ]
  },
  {
   "cell_type": "code",
   "execution_count": null,
   "metadata": {
    "collapsed": true
   },
   "outputs": [],
   "source": [
    "x = input('Enter a number >')\n",
    "print(10+int(x))"
   ]
  },
  {
   "cell_type": "markdown",
   "metadata": {},
   "source": [
    "## Next: some steps towards plots\n",
    "\n",
    "I want to run through some more complicated things quite quickly, we will return to explain this material in more detail later. The reason being that we can quickly get to a point where we can do many (all) of the things matlab can do in python. In particular I want to cover some material so that we can start doing basic plots. \n",
    "(Of course I am aware that many of you will also be studying matlab, and just want to show that everything can also be done better in python!!)\n"
   ]
  },
  {
   "cell_type": "markdown",
   "metadata": {},
   "source": [
    "### Lists\n",
    "\n",
    "So far we have talked about types of things that consist of essentially a single item of data (okay strings are lots of characters - but you know what I mean). It is useful to have data types that can represent more than a single item, for instance in mathematics we might like to represent a matrix or a vector. There are a number of ways to do this, and a number of different data types that are useful for different purposes, we will discuss more later, but first we should discuss lists.\n",
    "\n",
    "Lists are what they sound like, a data type to hold a number of other things in a single container. A list can contain mixed data, or the elements of a list may be all of the same type. A list can be defined by listing the elements inside square brackets, separated by commas. Here are some basic examples:"
   ]
  },
  {
   "cell_type": "code",
   "execution_count": null,
   "metadata": {
    "collapsed": true
   },
   "outputs": [],
   "source": [
    "a = [1,2,3,10,6]\n",
    "b = ['Hi','how','are','you?']\n",
    "c = ['my',1,4.5,'you',432,11.0,33]\n",
    "print(a)\n",
    "print(b[0])\n",
    "print(c[2:])"
   ]
  },
  {
   "cell_type": "markdown",
   "metadata": {},
   "source": [
    "Notice that we can refer to the elements of a list in a similar way to the characters in a string, by referring to the position of the element in square brackets, again the indexing starting to count from index 0.\n",
    "\n",
    "The last example is something we will see more extensively later on, it is an example of *index-slicing*. Using the : means 'take all of the elements up to the end of the list'. Here is a second example taking out elements from the middle of a list:"
   ]
  },
  {
   "cell_type": "code",
   "execution_count": null,
   "metadata": {
    "collapsed": true
   },
   "outputs": [],
   "source": [
    "print(c[2:5])"
   ]
  },
  {
   "cell_type": "markdown",
   "metadata": {},
   "source": [
    "Notice how we use `[2:5]` to mean element 2 up to element 4 (note this is one less than the number we specify).\n",
    "\n",
    "Here are a few more things we can do with lists:"
   ]
  },
  {
   "cell_type": "code",
   "execution_count": null,
   "metadata": {
    "collapsed": true
   },
   "outputs": [],
   "source": [
    "a = ['my',1,4.5,'you',432,11.0,33]\n",
    "b = [8,4,10,2,6]\n",
    "\n",
    "# Join two lists together with + (note more operator overloading):\n",
    "print(a+b)\n",
    "\n",
    "# Find the length of a list with the len() function:\n",
    "print(len(a))\n",
    "\n",
    "# Append an item to a list:\n",
    "a.append('extra')\n",
    "print(a)\n",
    "\n",
    "# Make a list of lists (a bit like a matrix):\n",
    "M = [[1,0,0],[0,1,0],[0,0,1]]\n",
    "print(M[0][0])\n",
    "\n",
    "# Sort a list:\n",
    "print(sorted(b))\n",
    "\n",
    "# Another operator overloading (for * this time) - create a list \n",
    "# with 20 copies a given one:\n",
    "print(20*[1,2])\n",
    "\n",
    "# Check if something is in a list:\n",
    "print('my' in a)\n",
    "print('and' in a)"
   ]
  },
  {
   "cell_type": "markdown",
   "metadata": {},
   "source": [
    "[This](https://www.tutorialspoint.com/python/python_lists.htm) page lists some more details of lists.\n",
    "\n",
    "Lastly there is one way to build a very useful list, a list of integers. To do that we use the `range()` function. Here is how that is used"
   ]
  },
  {
   "cell_type": "code",
   "execution_count": null,
   "metadata": {
    "collapsed": true
   },
   "outputs": [],
   "source": [
    "a = list(range(10))\n",
    "print(a)"
   ]
  },
  {
   "cell_type": "markdown",
   "metadata": {},
   "source": [
    "Here we are using the `list()` function to cast the output of the range function to be a list. The `range()` function produces something called an iterator (we will talk more about that later). \n",
    "\n",
    "The `range()` function takes up to 3 arguments, a start number, a stop number (notice you have to specify a number one bigger than the last number you want), and finally a step size. You can leave off the start (the default is start from 0), and the step (default is step in 1's). \n",
    "\n",
    "Here are some more examples:"
   ]
  },
  {
   "cell_type": "code",
   "execution_count": null,
   "metadata": {
    "collapsed": true
   },
   "outputs": [],
   "source": [
    "print(list(range(0,10,1)))\n",
    "print(list(range(-5,10,1)))\n",
    "print(list(range(1,9,2)))\n",
    "print(list(range(10,0,-1)))\n",
    "# Check you understand what is being produced by each line and why."
   ]
  },
  {
   "cell_type": "markdown",
   "metadata": {},
   "source": [
    "### Loops\n",
    "\n",
    "We will talk more about loops and what can be done with them later. I want to introduce you now to the basics. Suppose we want to do something for each element in a list, the way to do that is use a loop, which we do as follows:"
   ]
  },
  {
   "cell_type": "code",
   "execution_count": null,
   "metadata": {
    "collapsed": true
   },
   "outputs": [],
   "source": [
    "a = [2, 5, 7, 2, 1]\n",
    "for element in a:\n",
    "    print(element)"
   ]
  },
  {
   "cell_type": "markdown",
   "metadata": {},
   "source": [
    "We can use the same syntax to perform a loop over integers generated with the `range()` function. Like so:"
   ]
  },
  {
   "cell_type": "code",
   "execution_count": null,
   "metadata": {
    "collapsed": true
   },
   "outputs": [],
   "source": [
    "for i in range(10):\n",
    "    print(i)\n",
    "\n",
    "total = 0\n",
    "for i in range(11):\n",
    "    total = total+i   # another way of updating a value like this is total+=i\n",
    "print(total)    "
   ]
  },
  {
   "cell_type": "markdown",
   "metadata": {},
   "source": [
    "The second example is how we would calculate $\\sum_{i=0}^{i=10} i$, we use the variable `total` as a running total, adding in the value of i each time we go through the loop accumulating the sum.\n",
    "\n",
    "We can do more complicated things with loops, but we will return to discuss that in a later week."
   ]
  },
  {
   "cell_type": "markdown",
   "metadata": {},
   "source": [
    "### Plots\n",
    "\n",
    "Finally, we should look at how to do some basic plots. \n",
    "\n",
    "Since we are trying to replicate the behaviour of matlab, the first thing to mention is a new import statement `from pylab import *`. This imports a module containing `numpy` and some new plotting commands.\n",
    "\n",
    "Next we need a way of specifying a curve to plot. This is done by specifying a list of x coordinates, and a list of y coordinates which can be joined up to make a curve.\n",
    "\n",
    "Then there are three more functions needed to make our first plot. Firstly `arange()` is a function from `numpy` that works a little like the `range()` function does for integers, but producing something similar using floating point numbers. Once again it takes three arguments, start, stop and step length. Next `plot()` which is part of a module called `matplotlib`, this plots a line through some points specified in two arguments to the function as `x` and `y` coordinates. Lastly the function `show()` displays the plot that has been created.\n",
    "\n",
    "Here is an example:"
   ]
  },
  {
   "cell_type": "code",
   "execution_count": null,
   "metadata": {
    "collapsed": true
   },
   "outputs": [],
   "source": [
    "from pylab import *\n",
    "a = arange(0,1,0.2)\n",
    "print(a)\n",
    "\n",
    "x = arange(-10,10,0.1)\n",
    "y = x**2\n",
    "\n",
    "plot(x,y)\n",
    "show()"
   ]
  },
  {
   "cell_type": "markdown",
   "metadata": {},
   "source": [
    "Here are some more complicated ones - we will talk more about `matplotlib` and the sorts of plots that can be made in a future week."
   ]
  },
  {
   "cell_type": "code",
   "execution_count": null,
   "metadata": {
    "collapsed": true
   },
   "outputs": [],
   "source": [
    "x = arange(-pi,pi,0.01)\n",
    "y = sin(x)\n",
    "\n",
    "plot(x,y,'k-') # 'k-' specifies to draw the plot with a black solid line\n",
    "show()"
   ]
  },
  {
   "cell_type": "code",
   "execution_count": null,
   "metadata": {
    "collapsed": true
   },
   "outputs": [],
   "source": [
    "x = arange(0,10,1)\n",
    "y = exp(x)\n",
    "\n",
    "plot(x,y,'r--') # 'r-' specifies to draw the plot with a red dashed line\n",
    "show()"
   ]
  },
  {
   "cell_type": "markdown",
   "metadata": {},
   "source": [
    "Note what happens here when I don't use enough points. The plot just 'joins the dots', so won't look smooth unless you use enough points in your `arange()` function. Try editing the above to use a step size of 0.01 to make this plot look smooth."
   ]
  },
  {
   "cell_type": "markdown",
   "metadata": {},
   "source": [
    "## Trying it out\n",
    "\n",
    "Try solving some of the following problems:\n",
    "\n",
    "1) Plot $\\cos(x)$ from $x=0$ to $x=2\\pi$.\n",
    "\n",
    "2) Find $\\sum_{i=1}^{i=10} i(i-1)$.\n",
    "\n",
    "3) Plot $\\sin(2x)$ and $\\sin(3x)$ on the same axes from $x=-\\pi$ to $x=\\pi$. [Hint: use two `plot()` function calls before you use a `show()` function] \n",
    "\n",
    "4) Try using the scatter() function to make a scatter plot version of the plot in 1) above.\n",
    "\n",
    "5) Plot $e^x$ from $x=-100$ to $x=100$, why does this look bad? What might be done to get a better plot?\n",
    "\n",
    "Don't forget you can also edit any of the code above and re-run it to get an idea of how it works."
   ]
  },
  {
   "cell_type": "code",
   "execution_count": null,
   "metadata": {
    "collapsed": true
   },
   "outputs": [],
   "source": []
  },
  {
   "cell_type": "code",
   "execution_count": null,
   "metadata": {
    "collapsed": true
   },
   "outputs": [],
   "source": []
  }
 ],
 "metadata": {
  "kernelspec": {
   "display_name": "Python 3",
   "language": "python",
   "name": "python3"
  },
  "language_info": {
   "codemirror_mode": {
    "name": "ipython",
    "version": 3
   },
   "file_extension": ".py",
   "mimetype": "text/x-python",
   "name": "python",
   "nbconvert_exporter": "python",
   "pygments_lexer": "ipython3",
   "version": "3.7.3"
  }
 },
 "nbformat": 4,
 "nbformat_minor": 2
}
