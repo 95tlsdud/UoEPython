{
 "cells": [
  {
   "cell_type": "markdown",
   "metadata": {},
   "source": [
    "Question 6,13,15"
   ]
  },
  {
   "cell_type": "markdown",
   "metadata": {},
   "source": [
    "Question 1\n",
    "Make a function called \"stringprint\" that has one argument consisting of a string. Your function should not return a value, but should print the string out to the screen.\n",
    "\n",
    "springprint(\"Hi\")\n",
    "output : Hi"
   ]
  },
  {
   "cell_type": "code",
   "execution_count": 1,
   "metadata": {},
   "outputs": [],
   "source": [
    "def springprint(s):\n",
    "    print(s)"
   ]
  },
  {
   "cell_type": "code",
   "execution_count": 2,
   "metadata": {},
   "outputs": [
    {
     "name": "stdout",
     "output_type": "stream",
     "text": [
      "Hi\n",
      "How are you?\n"
     ]
    }
   ],
   "source": [
    "springprint(\"Hi\")\n",
    "springprint(\"How are you?\")"
   ]
  },
  {
   "cell_type": "markdown",
   "metadata": {},
   "source": [
    "Question 2\n",
    "\n",
    "In the function calculation_number1, calculate the following, and return the value:\n",
    "\n",
    "(0.54+3.14+0.59+297)^3/2"
   ]
  },
  {
   "cell_type": "code",
   "execution_count": 4,
   "metadata": {},
   "outputs": [],
   "source": [
    "def calculation_number1():\n",
    "    value = (0.54+3.14+0.59+297)**(3/2)\n",
    "    return(value)"
   ]
  },
  {
   "cell_type": "code",
   "execution_count": 6,
   "metadata": {},
   "outputs": [
    {
     "data": {
      "text/plain": [
       "5229.182886300975"
      ]
     },
     "execution_count": 6,
     "metadata": {},
     "output_type": "execute_result"
    }
   ],
   "source": [
    "calculation_number1()"
   ]
  },
  {
   "cell_type": "markdown",
   "metadata": {},
   "source": [
    "Question 3\n",
    "\n",
    "In a function called calculation_number2, calculate the following:\n",
    "\n",
    "𝑦=𝑥**3+3𝑥**2+2𝑥+1\n",
    "when x = 0.45\n",
    "\n",
    "return the value of y"
   ]
  },
  {
   "cell_type": "code",
   "execution_count": 5,
   "metadata": {},
   "outputs": [],
   "source": [
    "def calculation_number2():\n",
    "    x = 0.45\n",
    "    y = x**3+3*(x**2)+2*x+1\n",
    "    return y"
   ]
  },
  {
   "cell_type": "code",
   "execution_count": 7,
   "metadata": {},
   "outputs": [
    {
     "data": {
      "text/plain": [
       "2.598625"
      ]
     },
     "execution_count": 7,
     "metadata": {},
     "output_type": "execute_result"
    }
   ],
   "source": [
    "calculation_number2()"
   ]
  },
  {
   "cell_type": "markdown",
   "metadata": {},
   "source": [
    "Question 4\n",
    "\n",
    "Write a function that does the following:\n",
    "\n",
    "    - Takes as an argument the radius of a circle \n",
    "\n",
    "    - Calculates d to be the diameter of the circle\n",
    "\n",
    "    - Calculates c to be the circumference and a to be the area of the circle.\n",
    "\n",
    "You will need to import math and use the math module to make these calculations (in particular to get the value for 𝜋\n",
    "π\n",
    ").\n",
    "\n",
    "Your function should print out a description of the diameter, circumference, and area as follows:\n",
    "\n",
    "\"The diameter of the circle is:\"\n",
    "\n",
    " ***circle diameter***\n",
    "\n",
    "\"The circumference of the circle is:\"\n",
    "\n",
    "***circle circumference***\n",
    "\n",
    "\"The area of the circle is:\"\n",
    "\n",
    "***circle area***\n",
    "\n",
    "Round your values for the circumference and area to two decimal points with the round function"
   ]
  },
  {
   "cell_type": "code",
   "execution_count": 8,
   "metadata": {},
   "outputs": [],
   "source": [
    "import math\n",
    "\n",
    "def circle_properties(r):\n",
    "    d = r*2\n",
    "    c = 2 * math.pi * r\n",
    "    a = math.pi * (r**2)\n",
    "    print(\"The diameter of the circle is:\")\n",
    "    print(d)\n",
    "    print(\"The circumference of the circle is:\")\n",
    "    print(round(c,2))\n",
    "    print(\"The area of the circle is:\")\n",
    "    print(round(a,2))"
   ]
  },
  {
   "cell_type": "code",
   "execution_count": 9,
   "metadata": {},
   "outputs": [
    {
     "name": "stdout",
     "output_type": "stream",
     "text": [
      "The diameter of the circle is:\n",
      "4\n",
      "The circumference of the circle is:\n",
      "12.57\n",
      "The area of the circle is:\n",
      "12.57\n"
     ]
    }
   ],
   "source": [
    "circle_properties(2)"
   ]
  },
  {
   "cell_type": "code",
   "execution_count": 10,
   "metadata": {},
   "outputs": [
    {
     "name": "stdout",
     "output_type": "stream",
     "text": [
      "The diameter of the circle is:\n",
      "8\n",
      "The circumference of the circle is:\n",
      "25.13\n",
      "The area of the circle is:\n",
      "50.27\n"
     ]
    }
   ],
   "source": [
    "circle_properties(4)"
   ]
  },
  {
   "cell_type": "code",
   "execution_count": 11,
   "metadata": {},
   "outputs": [
    {
     "name": "stdout",
     "output_type": "stream",
     "text": [
      "The diameter of the circle is:\n",
      "16\n",
      "The circumference of the circle is:\n",
      "50.27\n",
      "The area of the circle is:\n",
      "201.06\n"
     ]
    }
   ],
   "source": [
    "circle_properties(8)"
   ]
  },
  {
   "cell_type": "markdown",
   "metadata": {},
   "source": [
    "Question 5\n",
    "\n",
    "Create a function temp_convert that takes as an argument the temperature in degrees Fahrenheit 𝑇𝑓 and converts it it to degrees Centigrade 𝑇𝑐. The formula you will need to use is:\n",
    "\n",
    "T_c = 5(T_f-32)/9\n",
    "\n",
    "Your function should print out the new temperature in degrees Centigrade rounded to 2 decimal places, it doesn't need to return a value."
   ]
  },
  {
   "cell_type": "code",
   "execution_count": 15,
   "metadata": {},
   "outputs": [],
   "source": [
    "def temp_convert(deg_far):\n",
    "    deg_cen = 5*(deg_far-32)/9\n",
    "    print(round(deg_cen,2))\n",
    "    \n",
    "#you have to be careful to put * between 5 and (deg_far-32)"
   ]
  },
  {
   "cell_type": "code",
   "execution_count": 16,
   "metadata": {},
   "outputs": [
    {
     "name": "stdout",
     "output_type": "stream",
     "text": [
      "15.0\n",
      "0.0\n",
      "26.67\n",
      "-17.78\n",
      "37.78\n"
     ]
    }
   ],
   "source": [
    "temp_convert(59)\n",
    "temp_convert(32)\n",
    "temp_convert(80)\n",
    "temp_convert(0)\n",
    "temp_convert(100)"
   ]
  },
  {
   "cell_type": "markdown",
   "metadata": {},
   "source": [
    "Question 6\n",
    "\n",
    "The following curves intersect at two points. \n",
    "\n",
    "𝑓(𝑥)=𝑥**2+3𝑥+sqrt(5)\n",
    "\n",
    "𝑔(𝑥)=−𝑥**2−2𝑥+1\n",
    "\n",
    "Find the coordinates of the points of intersection. Begin by performing some calculations by hand, and then use Python to find the roots using the quadratic formula.\n",
    "\n",
    "Print out your findings in the format shown below:\n",
    "\n",
    "Root 1:\n",
    "\n",
    "( __, __)\n",
    "\n",
    "Root 2: \n",
    "\n",
    "( __, __)\n",
    "\n",
    "Root 2 should be the point of intersection that has a lower y-value. All values should be rounded to 2 decimal places."
   ]
  },
  {
   "cell_type": "code",
   "execution_count": 33,
   "metadata": {},
   "outputs": [],
   "source": [
    "import math\n",
    "import numpy\n",
    "\n",
    "def intersection():\n",
    "    A = numpy.roots([2,5,math.sqrt(5)-1])\n",
    "    print(\"Root 1:\")\n",
    "    b = round(A[0],2)\n",
    "    a = round(A[1],2)\n",
    "    B = (a, round((-a**2-2*a+1),2))\n",
    "    C = (b, round((-b**2-2*b+1),2))\n",
    "    print(B)\n",
    "    print(\"Root 2:\")\n",
    "    print(C)\n",
    "    \n",
    "#numpy.roots([]) : we have to use [] when you use numpy.roots\n",
    "#numpy.roots :  fine the roots using the quadratic formula."
   ]
  },
  {
   "cell_type": "code",
   "execution_count": 34,
   "metadata": {},
   "outputs": [
    {
     "name": "stdout",
     "output_type": "stream",
     "text": [
      "Root 1:\n",
      "(-0.28, 1.48)\n",
      "Root 2:\n",
      "(-2.22, 0.51)\n"
     ]
    }
   ],
   "source": [
    "intersection()"
   ]
  },
  {
   "cell_type": "markdown",
   "metadata": {},
   "source": [
    "Question 7\n",
    "\n",
    "Your function should import NumPy and calculate the following using NumPy functions:\n",
    "\n",
    "tan(3π/7)\n",
    "\n",
    "The your function should print this value rounded to 3 decimal places, it doesn't need to return a value."
   ]
  },
  {
   "cell_type": "code",
   "execution_count": 35,
   "metadata": {},
   "outputs": [],
   "source": [
    "from numpy import tan, pi\n",
    "\n",
    "def tan_calc():\n",
    "    t = tan((3*pi)/7)\n",
    "    calc = round(t,3)\n",
    "    print(calc)"
   ]
  },
  {
   "cell_type": "code",
   "execution_count": 36,
   "metadata": {},
   "outputs": [
    {
     "name": "stdout",
     "output_type": "stream",
     "text": [
      "4.381\n"
     ]
    }
   ],
   "source": [
    "tan_calc()"
   ]
  },
  {
   "cell_type": "markdown",
   "metadata": {},
   "source": [
    "Question 8\n",
    "\n",
    "Your function should import NumPy and use it to calculate the following:\n",
    "\n",
    "𝑐=𝑠𝑖𝑛(𝜋/3)\n",
    "\n",
    "Then round your answer to 3 decimal places, and print it within the function, you don't need to return a value."
   ]
  },
  {
   "cell_type": "code",
   "execution_count": 40,
   "metadata": {},
   "outputs": [],
   "source": [
    "from numpy import sin, pi\n",
    "\n",
    "def sin_calc():\n",
    "    c = sin(pi/3)\n",
    "    calc = round(c,3)\n",
    "    print(calc)"
   ]
  },
  {
   "cell_type": "code",
   "execution_count": 41,
   "metadata": {},
   "outputs": [
    {
     "name": "stdout",
     "output_type": "stream",
     "text": [
      "0.866\n"
     ]
    }
   ],
   "source": [
    "sin_calc()"
   ]
  },
  {
   "cell_type": "markdown",
   "metadata": {},
   "source": [
    "Question 9\n",
    "\n",
    "Your function should use NumPy to calculate the following:\n",
    "\n",
    "t = arctan(3.0)\n",
    "\n",
    "You should round your answer to 3 decimal places, and print it to the screen, you don't need to return a value from the function."
   ]
  },
  {
   "cell_type": "code",
   "execution_count": 42,
   "metadata": {},
   "outputs": [
    {
     "name": "stdout",
     "output_type": "stream",
     "text": [
      "1.249\n"
     ]
    }
   ],
   "source": [
    "from numpy import arctan\n",
    "\n",
    "def arctan_calc():\n",
    "    t = arctan(3.0)\n",
    "    value = round(t,3)\n",
    "    print(value)\n",
    "    \n",
    "arctan_calc()"
   ]
  },
  {
   "cell_type": "markdown",
   "metadata": {},
   "source": [
    "Question 10\n",
    "\n",
    "Your function should import and use NumPy using the syntax shown in the lecture notes.\n",
    "\n",
    "Compute the following:\n",
    "\n",
    "𝑥=10*(sqrt(2*(11.4+12.6)))\n",
    "\n",
    "Round your answer to three decimal places using the round function, and return 𝑥 from your function."
   ]
  },
  {
   "cell_type": "code",
   "execution_count": 45,
   "metadata": {},
   "outputs": [
    {
     "data": {
      "text/plain": [
       "69.282"
      ]
     },
     "execution_count": 45,
     "metadata": {},
     "output_type": "execute_result"
    }
   ],
   "source": [
    "from numpy import sqrt\n",
    "\n",
    "def sqrt_calc():\n",
    "    x = 10*(sqrt(2*(11.4+12.6)))\n",
    "    calc = round(x,3)\n",
    "    return calc\n",
    "\n",
    "sqrt_calc()"
   ]
  },
  {
   "cell_type": "markdown",
   "metadata": {},
   "source": [
    "Question 11\n",
    "\n",
    "Write a function which uses NumPy to calculate the following:\n",
    "\n",
    "Given that the diameter of a circle is 4 cm, what is its area?\n",
    "\n",
    "Round your answer to 3 decimal places, and return the answer from your function."
   ]
  },
  {
   "cell_type": "code",
   "execution_count": 46,
   "metadata": {},
   "outputs": [
    {
     "data": {
      "text/plain": [
       "12.566"
      ]
     },
     "execution_count": 46,
     "metadata": {},
     "output_type": "execute_result"
    }
   ],
   "source": [
    "from numpy import pi\n",
    "\n",
    "def area_calc():\n",
    "    d = 4\n",
    "    r = d/2\n",
    "    area = pi * (r**2)\n",
    "    return round(area,3)\n",
    "\n",
    "area_calc()"
   ]
  },
  {
   "cell_type": "markdown",
   "metadata": {},
   "source": [
    "Question 12\n",
    "\n",
    "Write a function which uses NumPy to solve the following problem:\n",
    "\n",
    "A sphere is inscribed in a cube that has a side length of 5 cm.\n",
    "\n",
    "What is the volume of the sphere?\n",
    "\n",
    "Round your answer to two decimal places and print it in your function, you don't need to return a value from the function."
   ]
  },
  {
   "cell_type": "code",
   "execution_count": 48,
   "metadata": {},
   "outputs": [
    {
     "name": "stdout",
     "output_type": "stream",
     "text": [
      "65.45\n"
     ]
    }
   ],
   "source": [
    "from numpy import pi\n",
    "\n",
    "def volume_calc():\n",
    "    r = 5/2\n",
    "    volume = (4/3)*pi*(r**3)\n",
    "    print(round(volume,2))\n",
    "\n",
    "volume_calc()"
   ]
  },
  {
   "cell_type": "markdown",
   "metadata": {},
   "source": [
    "Question 13\n",
    "\n",
    "Your function should use NumPy and calculate the following:\n",
    "\n",
    "ℎ=𝑠𝑖𝑛(32𝑜)\n",
    "\n",
    "Round your answer to 4 decimal places, and print it.\n",
    "\n",
    "(Hint: look up the radians function.)"
   ]
  },
  {
   "cell_type": "code",
   "execution_count": 49,
   "metadata": {},
   "outputs": [
    {
     "name": "stdout",
     "output_type": "stream",
     "text": [
      "0.5299\n"
     ]
    }
   ],
   "source": [
    "from numpy import *\n",
    "\n",
    "def sin_calc():\n",
    "    degree = radians(32)\n",
    "    h = sin(degree)\n",
    "    print(round(h,4))\n",
    "    \n",
    "sin_calc()"
   ]
  },
  {
   "cell_type": "markdown",
   "metadata": {},
   "source": [
    "Questin 14\n",
    "\n",
    "Your function should use NumPy to find the roots of the following equation by using the quadratic formula:\n",
    "5*𝑥**2+8*𝑥+3=0.\n",
    "\n",
    "Print the root with the largest magnitude first, and then the smaller root each to 1 decimal place. Your function need not return a value."
   ]
  },
  {
   "cell_type": "code",
   "execution_count": 51,
   "metadata": {},
   "outputs": [
    {
     "name": "stdout",
     "output_type": "stream",
     "text": [
      "-0.6\n",
      "-1.0\n"
     ]
    }
   ],
   "source": [
    "from numpy import roots\n",
    "\n",
    "def quad_form():\n",
    "    A = roots([5,8,3])\n",
    "    a = round(A[0],1)\n",
    "    b = round(A[1],1)\n",
    "    print(a)\n",
    "    print(b)\n",
    "    \n",
    "quad_form()"
   ]
  },
  {
   "cell_type": "markdown",
   "metadata": {},
   "source": [
    "Question 15\n",
    "\n",
    "Write a function coordinate_converter that takes the Cartesian coordinates (𝑥,𝑦) as two arguments, and then converts these to polar coordinates (𝑟,𝜃) and returns both values.\n",
    "r = sqrt(x**2+y**2) theta = arctan(y/x)\n",
    "\n"
   ]
  },
  {
   "cell_type": "code",
   "execution_count": 52,
   "metadata": {},
   "outputs": [
    {
     "name": "stdout",
     "output_type": "stream",
     "text": [
      "(2.23606797749979, 1.1071487177940906)\n",
      "(2.5383656159032726, 0.4178243296005625)\n"
     ]
    }
   ],
   "source": [
    "def coordinate_converter(x,y):\n",
    "    import math\n",
    "    r = math.sqrt(x**2+y**2)\n",
    "    theta = math.atan(y/x)\n",
    "    return r, theta\n",
    "\n",
    "print(coordinate_converter(1,2))\n",
    "print(coordinate_converter(-2.32,-1.03))"
   ]
  }
 ],
 "metadata": {
  "kernelspec": {
   "display_name": "Python 3",
   "language": "python",
   "name": "python3"
  },
  "language_info": {
   "codemirror_mode": {
    "name": "ipython",
    "version": 3
   },
   "file_extension": ".py",
   "mimetype": "text/x-python",
   "name": "python",
   "nbconvert_exporter": "python",
   "pygments_lexer": "ipython3",
   "version": "3.7.3"
  }
 },
 "nbformat": 4,
 "nbformat_minor": 2
}
