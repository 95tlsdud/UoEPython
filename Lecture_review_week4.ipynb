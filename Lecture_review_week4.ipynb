{
 "cells": [
  {
   "cell_type": "code",
   "execution_count": 1,
   "metadata": {},
   "outputs": [
    {
     "name": "stdout",
     "output_type": "stream",
     "text": [
      "0 0\n",
      "0 1\n",
      "0 2\n",
      "0 3\n",
      "0 4\n",
      "1 0\n",
      "1 1\n",
      "1 2\n",
      "1 3\n",
      "1 4\n",
      "2 0\n",
      "2 1\n",
      "2 2\n",
      "2 3\n",
      "2 4\n",
      "3 0\n",
      "3 1\n",
      "3 2\n",
      "3 3\n",
      "3 4\n",
      "4 0\n",
      "4 1\n",
      "4 2\n",
      "4 3\n",
      "4 4\n",
      "5 0\n",
      "5 1\n",
      "5 2\n",
      "5 3\n",
      "5 4\n",
      "6 0\n",
      "6 1\n",
      "6 2\n",
      "6 3\n",
      "6 4\n",
      "7 0\n",
      "7 1\n",
      "7 2\n",
      "7 3\n",
      "7 4\n",
      "8 0\n",
      "8 1\n",
      "8 2\n",
      "8 3\n",
      "8 4\n",
      "9 0\n",
      "9 1\n",
      "9 2\n",
      "9 3\n",
      "9 4\n"
     ]
    }
   ],
   "source": [
    "for i in range(0,10):\n",
    "    for j in range(0,5):\n",
    "        print(i,j)"
   ]
  },
  {
   "cell_type": "code",
   "execution_count": 2,
   "metadata": {},
   "outputs": [
    {
     "name": "stdout",
     "output_type": "stream",
     "text": [
      "10\n",
      "8\n",
      "6\n",
      "4\n",
      "2\n"
     ]
    }
   ],
   "source": [
    "for i in range(10,1,-2):\n",
    "    print(i)"
   ]
  },
  {
   "cell_type": "code",
   "execution_count": 4,
   "metadata": {},
   "outputs": [
    {
     "name": "stdout",
     "output_type": "stream",
     "text": [
      "5\n",
      "4\n",
      "[2, 4, 5, 7]\n",
      "[2, 4, 5, 7]\n"
     ]
    }
   ],
   "source": [
    "a = [7,4,5,2]\n",
    "print(a[2])\n",
    "print(len(a))\n",
    "a.sort()\n",
    "# not return, just sorted a\n",
    "b = sorted(a)\n",
    "print(a)\n",
    "print(b)"
   ]
  },
  {
   "cell_type": "code",
   "execution_count": 12,
   "metadata": {},
   "outputs": [
    {
     "name": "stdout",
     "output_type": "stream",
     "text": [
      "10\n",
      "12.0\n",
      "hello\n",
      "HELLO\n"
     ]
    }
   ],
   "source": [
    "def mult(a,b):\n",
    "    return a*b\n",
    "#mult('a','b') -> ERROR!\n",
    "#print(mult(a,b)) -> Error!\n",
    "print(mult(2,5))\n",
    "print(mult(2.4,5))\n",
    "\n",
    "print('HelLo'.lower())\n",
    "print('HelLo'.upper())"
   ]
  },
  {
   "cell_type": "markdown",
   "metadata": {},
   "source": [
    "In 'mult' function, I have to input the intergers or floating points, not charactor and boolean.\n",
    "\n",
    ".lower() : return the lower character\n",
    ".upper() : return the upper character"
   ]
  },
  {
   "cell_type": "code",
   "execution_count": 18,
   "metadata": {},
   "outputs": [
    {
     "name": "stdout",
     "output_type": "stream",
     "text": [
      "['Hello', 'I', 'am', 'here']\n",
      "None\n",
      "None\n",
      "None\n",
      "A.sorted is None\n",
      "A.reverse is None\n",
      "A.clear is None\n",
      "True\n"
     ]
    }
   ],
   "source": [
    "A = 'Hello I am here'\n",
    "A = A.split()\n",
    "print(A)\n",
    "\n",
    "print(A.sort())\n",
    "print(A.reverse())\n",
    "print(A.clear())\n",
    "\n",
    "print(\"A.sorted is {}\".format(A.sort()))\n",
    "print(\"A.reverse is {}\".format(A.reverse()))\n",
    "print(\"A.clear is {}\".format(A.clear()))\n",
    "\n",
    "x = 3.0\n",
    "print(x.is_integer())"
   ]
  },
  {
   "cell_type": "markdown",
   "metadata": {},
   "source": [
    "    The 'split' method\n",
    "\n",
    "It splits a single multi-word string into a list of individual words, removing all the whitespace between them.(Whitespace means any tabs, newlines, or spaces) This allows us to read input as a single string, and split it into words."
   ]
  },
  {
   "cell_type": "code",
   "execution_count": 19,
   "metadata": {},
   "outputs": [
    {
     "name": "stdout",
     "output_type": "stream",
     "text": [
      "['Well', 'I', 'never', 'did', 'said', 'Alice']\n"
     ]
    }
   ],
   "source": [
    "phrase = \"Well I never did said Alice\"\n",
    "words = phrase.split()\n",
    "print(words)"
   ]
  },
  {
   "cell_type": "code",
   "execution_count": 20,
   "metadata": {},
   "outputs": [],
   "source": [
    "def remove_punctuation(phrase):\n",
    "    phrase_sans_punct = \"\"\n",
    "    for letter in phrase:\n",
    "        if letter not in punctuation:\n",
    "            phase_sans_punct += letter\n",
    "    return phase_sans_punct"
   ]
  },
  {
   "cell_type": "code",
   "execution_count": 21,
   "metadata": {},
   "outputs": [
    {
     "name": "stdout",
     "output_type": "stream",
     "text": [
      "<function remove_punctuation at 0x10712d158>\n"
     ]
    }
   ],
   "source": [
    "print(remove_punctuation)"
   ]
  },
  {
   "cell_type": "code",
   "execution_count": 22,
   "metadata": {},
   "outputs": [],
   "source": [
    "import string\n",
    "\n",
    "def remove_punctuation(phrase):\n",
    "    phrase_sans_punct = \"\"\n",
    "    for letter in phrase:\n",
    "        if letter not in string.punctuation:\n",
    "            phase_sans_punct += letter\n",
    "    return phase_sans_punct"
   ]
  },
  {
   "cell_type": "code",
   "execution_count": 23,
   "metadata": {},
   "outputs": [
    {
     "name": "stdout",
     "output_type": "stream",
     "text": [
      "<function remove_punctuation at 0x10712d1e0>\n"
     ]
    }
   ],
   "source": [
    "print(remove_punctuation)"
   ]
  },
  {
   "cell_type": "code",
   "execution_count": 25,
   "metadata": {},
   "outputs": [
    {
     "name": "stdout",
     "output_type": "stream",
     "text": [
      "His name is Arthur!\n",
      "I am Alice and I am 10 years old.\n",
      "I am 10 and I am Alice years old.\n"
     ]
    }
   ],
   "source": [
    "phrase = \"His name is {}!\".format(\"Arthur\")\n",
    "print(phrase)\n",
    "\n",
    "name = \"Alice\"\n",
    "age = 10\n",
    "phrase1 = \"I am {} and I am {} years old.\".format(name, age)\n",
    "phrase2 = \"I am {} and I am {} years old.\".format(age, name)\n",
    "print(phrase1)\n",
    "print(phrase2)"
   ]
  },
  {
   "cell_type": "code",
   "execution_count": 26,
   "metadata": {},
   "outputs": [
    {
     "name": "stdout",
     "output_type": "stream",
     "text": [
      "2**10 = 1024 and 4*5 = 20.000000\n"
     ]
    }
   ],
   "source": [
    "x = 4\n",
    "y = 5\n",
    "phrase3 = \"2**10 = {} and {}*{} = {:f}\".format(2**10, x, y, x*y)\n",
    "print(phrase3)"
   ]
  },
  {
   "cell_type": "code",
   "execution_count": 27,
   "metadata": {},
   "outputs": [
    {
     "name": "stdout",
     "output_type": "stream",
     "text": [
      "Pi to three decimal places is 3.142\n",
      "123456789 123456789 123456789 123456789 123456789 123456789\n",
      "|||Paris          |||    Whitney    |||         Hilton|||Born in 1981|||\n",
      "The decimal value 123456 converts to hex value 1e240\n"
     ]
    }
   ],
   "source": [
    "name1 = \"Paris\"\n",
    "name2 = \"Whitney\"\n",
    "name3 = \"Hilton\"\n",
    "print(\"Pi to three decimal places is {0:.3f}\".format(3.1415926))\n",
    "print(\"123456789 123456789 123456789 123456789 123456789 123456789\")\n",
    "print(\"|||{0:<15}|||{1:^15}|||{2:>15}|||Born in {3}|||\".format(name1,name2,name3,1981))\n",
    "print(\"The decimal value {0} converts to hex value {0:x}\".format(123456))"
   ]
  },
  {
   "cell_type": "markdown",
   "metadata": {},
   "source": [
    "the field is aligned to the left < , center ^ , or right >\n",
    "f : floating point"
   ]
  },
  {
   "cell_type": "markdown",
   "metadata": {},
   "source": [
    "    Tuples\n",
    "\n",
    "Tuples are used for grouping data\n",
    "Tuples are the most basic of the types for holding multiple elements\n",
    "IMMUTABLE - you can't change an element\n",
    "Values can be unpacked from a tuple"
   ]
  },
  {
   "cell_type": "code",
   "execution_count": 34,
   "metadata": {},
   "outputs": [
    {
     "name": "stdout",
     "output_type": "stream",
     "text": [
      "(5.4, 2.3)\n",
      "(3, 4, 5, 6, 10, 'hello')\n",
      "3.4\n",
      "1.1\n",
      "4.21 3.08\n",
      "3 4\n"
     ]
    }
   ],
   "source": [
    "a = (5.4,2.3)\n",
    "b = 3,4,5,6,10,'hello'\n",
    "\n",
    "\n",
    "x,y = (3.4,1.1)\n",
    "s,t = [4.21, 3.08]\n",
    "\n",
    "p= 4\n",
    "q = 3\n",
    "p, q = q, p\n",
    "\n",
    "print(a)\n",
    "print(b)\n",
    "print(x)\n",
    "print(y)\n",
    "print(s,t)\n",
    "print(p,q)"
   ]
  },
  {
   "cell_type": "code",
   "execution_count": 35,
   "metadata": {},
   "outputs": [
    {
     "name": "stdout",
     "output_type": "stream",
     "text": [
      "('Paris Hilton', 1981)\n"
     ]
    }
   ],
   "source": [
    "year_born = (\"Paris Hilton\",1981)\n",
    "print(year_born)"
   ]
  },
  {
   "cell_type": "code",
   "execution_count": 36,
   "metadata": {},
   "outputs": [
    {
     "name": "stdout",
     "output_type": "stream",
     "text": [
      "1967\n"
     ]
    }
   ],
   "source": [
    "julia = (\"Julia\", \"Roberts\", 1967, \"Duplicity\", 2009, \"Actress\", \"Atlanta, Georgia\")\n",
    "print(julia[2])"
   ]
  },
  {
   "cell_type": "code",
   "execution_count": 38,
   "metadata": {},
   "outputs": [],
   "source": [
    "# julia[0] = \"X\"\n",
    "\n",
    "# Error : tuples are immutable"
   ]
  },
  {
   "cell_type": "code",
   "execution_count": 39,
   "metadata": {},
   "outputs": [
    {
     "name": "stdout",
     "output_type": "stream",
     "text": [
      "('Julia', 'Roberts', 1967, 'Eat Pray Love', 2010, 'Actress', 'Atlanta, Georgia')\n"
     ]
    }
   ],
   "source": [
    "julia = julia[:3] + (\"Eat Pray Love\", 2010) + julia[5:]\n",
    "print(julia)"
   ]
  },
  {
   "cell_type": "code",
   "execution_count": 41,
   "metadata": {},
   "outputs": [
    {
     "data": {
      "text/plain": [
       "tuple"
      ]
     },
     "execution_count": 41,
     "metadata": {},
     "output_type": "execute_result"
    }
   ],
   "source": [
    "tup = (5,)\n",
    "type(tup)"
   ]
  },
  {
   "cell_type": "code",
   "execution_count": 42,
   "metadata": {},
   "outputs": [
    {
     "data": {
      "text/plain": [
       "int"
      ]
     },
     "execution_count": 42,
     "metadata": {},
     "output_type": "execute_result"
    }
   ],
   "source": [
    "x = (5)\n",
    "type(x)"
   ]
  },
  {
   "cell_type": "code",
   "execution_count": 44,
   "metadata": {},
   "outputs": [
    {
     "data": {
      "text/plain": [
       "'CS'"
      ]
     },
     "execution_count": 44,
     "metadata": {},
     "output_type": "execute_result"
    }
   ],
   "source": [
    "bob = (\"Bob\", 19, \"CS\")\n",
    "(name, age, studies) = bob\n",
    "name"
   ]
  },
  {
   "cell_type": "code",
   "execution_count": 45,
   "metadata": {},
   "outputs": [
    {
     "data": {
      "text/plain": [
       "19"
      ]
     },
     "execution_count": 45,
     "metadata": {},
     "output_type": "execute_result"
    }
   ],
   "source": [
    "age"
   ]
  },
  {
   "cell_type": "code",
   "execution_count": 46,
   "metadata": {},
   "outputs": [
    {
     "data": {
      "text/plain": [
       "'CS'"
      ]
     },
     "execution_count": 46,
     "metadata": {},
     "output_type": "execute_result"
    }
   ],
   "source": [
    "studies"
   ]
  },
  {
   "cell_type": "code",
   "execution_count": 49,
   "metadata": {},
   "outputs": [],
   "source": [
    "import math\n",
    "\n",
    "def circle_stats(r):\n",
    "    \"\"\" Return (circumference, area) of a circle of radius r \"\"\"\n",
    "    circumference = 2 * math.pi * r\n",
    "    area = math.pi * r * r\n",
    "    return (circumference, area)"
   ]
  },
  {
   "cell_type": "code",
   "execution_count": 50,
   "metadata": {},
   "outputs": [
    {
     "data": {
      "text/plain": [
       "(12.566370614359172, 12.566370614359172)"
      ]
     },
     "execution_count": 50,
     "metadata": {},
     "output_type": "execute_result"
    }
   ],
   "source": [
    "circle_stats(2)"
   ]
  },
  {
   "cell_type": "markdown",
   "metadata": {},
   "source": [
    "    Dictionaries\n",
    " \n",
    "Dictionaries are a bit like a language dictionary, they contain paired 'data key:value'"
   ]
  },
  {
   "cell_type": "code",
   "execution_count": 52,
   "metadata": {},
   "outputs": [
    {
     "name": "stdout",
     "output_type": "stream",
     "text": [
      "435\n",
      "dict_keys(['fish', 'chocolate', 'rice'])\n",
      "dict_values([435, 235, 135])\n"
     ]
    }
   ],
   "source": [
    "prices = {'fish':435, 'chocolate':235}\n",
    "prices['rice'] = 135\n",
    "\n",
    "print(prices['fish'])\n",
    "print(prices.keys())\n",
    "print(prices.values())"
   ]
  },
  {
   "cell_type": "code",
   "execution_count": 53,
   "metadata": {},
   "outputs": [
    {
     "name": "stdout",
     "output_type": "stream",
     "text": [
      "{'one': 'uno', 'two': 'dos'}\n"
     ]
    }
   ],
   "source": [
    "english_spanish = {}\n",
    "english_spanish[\"one\"] = \"uno\"\n",
    "english_spanish[\"two\"] = \"dos\"\n",
    "\n",
    "print(english_spanish)"
   ]
  },
  {
   "cell_type": "code",
   "execution_count": 56,
   "metadata": {},
   "outputs": [
    {
     "name": "stdout",
     "output_type": "stream",
     "text": [
      "{'apple': 430, 'bananas': 312, 'oranges': 525, 'pears': 217}\n"
     ]
    }
   ],
   "source": [
    "inventory = {\"apple\":430, \"bananas\":312, \"oranges\":525, \"pears\":217}\n",
    "print(inventory)"
   ]
  },
  {
   "cell_type": "code",
   "execution_count": 57,
   "metadata": {},
   "outputs": [
    {
     "name": "stdout",
     "output_type": "stream",
     "text": [
      "{'apple': 430, 'oranges': 525, 'pears': 217}\n"
     ]
    }
   ],
   "source": [
    "del inventory[\"bananas\"]\n",
    "print(inventory)"
   ]
  },
  {
   "cell_type": "markdown",
   "metadata": {},
   "source": [
    "'del' statement removes a key value pair from a dictionary."
   ]
  },
  {
   "cell_type": "code",
   "execution_count": 58,
   "metadata": {},
   "outputs": [
    {
     "name": "stdout",
     "output_type": "stream",
     "text": [
      "{'apple': 430, 'oranges': 525, 'pears': 217, 'bananas': 0}\n"
     ]
    }
   ],
   "source": [
    "inventory['bananas'] = 0\n",
    "print(inventory)"
   ]
  },
  {
   "cell_type": "code",
   "execution_count": 60,
   "metadata": {},
   "outputs": [
    {
     "name": "stdout",
     "output_type": "stream",
     "text": [
      "{'apple': 430, 'oranges': 525, 'pears': 217, 'bananas': 400}\n"
     ]
    },
    {
     "data": {
      "text/plain": [
       "4"
      ]
     },
     "execution_count": 60,
     "metadata": {},
     "output_type": "execute_result"
    }
   ],
   "source": [
    "inventory[\"bananas\"] += 200\n",
    "print(inventory)\n",
    "\n",
    "len(inventory)"
   ]
  },
  {
   "cell_type": "code",
   "execution_count": 62,
   "metadata": {},
   "outputs": [
    {
     "name": "stdout",
     "output_type": "stream",
     "text": [
      "9\n",
      "7\n",
      "{1, 3, 4, 5, 6, 7, 8, 'a', 'b'}\n"
     ]
    }
   ],
   "source": [
    "a = [1,3,4,5,5,6,7,8,5]\n",
    "\n",
    "print(len(a))\n",
    "a_set = set(a)\n",
    "print(len(a_set))\n",
    "\n",
    "b = {'a','b'}\n",
    "c = a_set.union(b)\n",
    "print(c)"
   ]
  },
  {
   "cell_type": "markdown",
   "metadata": {},
   "source": [
    "'Sets' are very similar to their mathematical equivalent.\n",
    "The elements must be unique - copies are removed"
   ]
  },
  {
   "cell_type": "code",
   "execution_count": 65,
   "metadata": {},
   "outputs": [
    {
     "name": "stdout",
     "output_type": "stream",
     "text": [
      "6.5\n",
      "2.1666666666666665\n"
     ]
    }
   ],
   "source": [
    "import numpy\n",
    "\n",
    "A = numpy.ones((3,3))\n",
    "b = numpy.array([1.3,4.2,1])\n",
    "\n",
    "print(b.sum())\n",
    "print(b.mean())\n",
    "\n",
    "#x = numpy.linalg.solve(A,b)\n",
    "#print(x)"
   ]
  },
  {
   "cell_type": "code",
   "execution_count": null,
   "metadata": {},
   "outputs": [],
   "source": []
  }
 ],
 "metadata": {
  "kernelspec": {
   "display_name": "Python 3",
   "language": "python",
   "name": "python3"
  },
  "language_info": {
   "codemirror_mode": {
    "name": "ipython",
    "version": 3
   },
   "file_extension": ".py",
   "mimetype": "text/x-python",
   "name": "python",
   "nbconvert_exporter": "python",
   "pygments_lexer": "ipython3",
   "version": "3.7.3"
  }
 },
 "nbformat": 4,
 "nbformat_minor": 2
}
